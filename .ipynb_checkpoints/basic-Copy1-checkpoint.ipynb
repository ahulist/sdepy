{
 "cells": [
  {
   "cell_type": "markdown",
   "metadata": {},
   "source": [
    "# sympy prep"
   ]
  },
  {
   "cell_type": "code",
   "execution_count": 7,
   "metadata": {},
   "outputs": [],
   "source": [
    "from IPython.display import display\n",
    "from sympy.printing import ccode\n",
    "from sympy import cos, Symbol, Function, init_printing, Float\n",
    "# from sympy import UnevaluatedExpr\n",
    "import sympy\n",
    "import numpy as np\n",
    "\n",
    "class Value:\n",
    "    values_by_name = {}\n",
    "    def __init__(self, name, value):\n",
    "        self.name = name\n",
    "        self.value = value\n",
    "        self.sympy = Symbol(self.name)\n",
    "        Value.values_by_name[self.name] = self\n",
    "    @staticmethod\n",
    "    def get(name):\n",
    "        return Value.values_by_name[name]\n",
    "    @staticmethod\n",
    "    def s(name):\n",
    "        return Value.get(name).sympy\n",
    "    @staticmethod\n",
    "    def subs():\n",
    "        return {x.sympy : Float(x.value, 10) for x in Value.values_by_name.values() if isinstance(x, Param)}\n",
    "#     @staticmethod\n",
    "#     def subs_uneval():\n",
    "#         return {x.sympy : UnevaluatedExpr(x.value) for x in Value.values_by_name.values() if isinstance(x, Param)}\n",
    "class Var(Value):\n",
    "    def __init__(self, name, initial_value):\n",
    "        super().__init__(name, initial_value)\n",
    "class VarIndependent(Var):\n",
    "    def __init__(self, name, initial_value, step):\n",
    "        super().__init__(name, initial_value)\n",
    "        self.step = step\n",
    "class VarDependent(Var):\n",
    "    def __init__(self, name, initial_value, derivative_order):\n",
    "        super().__init__(name, initial_value)\n",
    "        self.derivative_order = derivative_order\n",
    "class Param(Value):\n",
    "    def __init__(self, name, value):\n",
    "        super().__init__(name, value)"
   ]
  },
  {
   "cell_type": "markdown",
   "metadata": {},
   "source": [
    "# to uzupełnia user:"
   ]
  },
  {
   "cell_type": "code",
   "execution_count": 8,
   "metadata": {},
   "outputs": [
    {
     "data": {
      "image/png": "[encoded data removed]",
      "text/latex": [
       "$$\\frac{1}{m} \\left(1.0 D \\xi + 1.0 a \\cos{\\left (\\omega t \\right )} + 1.0 f - 1.0 \\gamma velocity + 6.28318530717959 \\sin{\\left (6.28318530717959 position \\right )}\\right)$$"
      ],
      "text/plain": [
       "1.0⋅(D⋅ξ + a⋅cos(ω⋅t) + f - γ⋅velocity + 6.28318530717959⋅sin(6.28318530717959\n",
       "──────────────────────────────────────────────────────────────────────────────\n",
       "                                            m                                 \n",
       "\n",
       "⋅position))\n",
       "───────────\n",
       "           "
      ]
     },
     "metadata": {},
     "output_type": "display_data"
    },
    {
     "data": {
      "image/png": "[encoded data removed]",
      "text/latex": [
       "$$\\left\\{D, a, f, \\gamma, m, \\omega, position, t, velocity, \\xi\\right\\}$$"
      ],
      "text/plain": [
       "set([D, a, f, γ, m, ω, position, t, velocity, ξ])"
      ]
     },
     "metadata": {},
     "output_type": "display_data"
    },
    {
     "data": {
      "image/png": "[encoded data removed]",
      "text/latex": [
       "$$- 0.100694794079573 velocity + 0.632684050670245 \\sin{\\left (6.28318530717959 position \\right )} + 0.51606081965781 \\cos{\\left (3.749 t \\right )} + 0.100694794079573$$"
      ],
      "text/plain": [
       "-0.100694794079573⋅velocity + 0.632684050670245⋅sin(6.28318530717959⋅position)\n",
       " + 0.51606081965781⋅cos(3.749⋅t) + 0.100694794079573"
      ]
     },
     "metadata": {},
     "output_type": "display_data"
    }
   ],
   "source": [
    "U = lambda x: sympy.cos(2*np.pi*x)\n",
    "rhs_values = [\n",
    "    # name, value\n",
    "    Param('m', 9.931),\n",
    "    Param('gamma', 1.0),\n",
    "    Param('a', 5.125),\n",
    "    Param('omega', 3.749),\n",
    "    Param('f', 1.0),\n",
    "    Param('D', 0.0001),\n",
    "    Param('xi', 0.0),\n",
    "    # name, initial value, derivative order\n",
    "    VarDependent('position', 0.0, 0),\n",
    "    VarDependent('velocity', 1.0, 1),\n",
    "    # name, initial value, step\n",
    "    VarIndependent('t', 0.0,  0.0020949113096826), # 2*PI/(omega*steps_per_period)\n",
    "]\n",
    "\n",
    "## simple case\n",
    "# U = lambda x: 0\n",
    "# rhs_values = [\n",
    "#     Param('m', 1.0),\n",
    "#     Param('gamma', 0.0),\n",
    "#     Param('a', 0.0),\n",
    "#     Param('omega', 0.0),\n",
    "#     Param('f', -9.81),\n",
    "#     Param('D', 0.0),\n",
    "#     Param('xi', 0.0),\n",
    "#     VarDependent('position', 0.0, 0),\n",
    "#     VarDependent('velocity', 10*np.sin(np.pi/4), 1),\n",
    "#     VarIndependent('t', 0.0,  0.001), # 2*PI/(omega*steps_per_period)\n",
    "# ]\n",
    "\n",
    "## equation\n",
    "# a = 1.0 / m * (-gamma * Velocity - U_deriv(Position) + a * cosf(omega * T) + f + D * xi)\n",
    "rhs = 1.0 / Value.s('m') * (-Value.s('gamma') * Value.s('velocity') - \\\n",
    "     sympy.diff(U(Value.s('position')), Value.s('position')) \\\n",
    "    + Value.s('a') * sympy.cos(Value.s('omega') * Value.s('t')) \\\n",
    "    + Value.s('f') + Value.s('D') * Value.s('xi'))\n",
    "\n",
    "\n",
    "\n",
    "init_printing()\n",
    "display(rhs)\n",
    "display(rhs.free_symbols)\n",
    "display(rhs.subs(Value.subs()))\n",
    "# display(rhs.subs(Value.subs_uneval())) # w najnowszej wersji sympy"
   ]
  },
  {
   "cell_type": "markdown",
   "metadata": {},
   "source": [
    "# mako context prep"
   ]
  },
  {
   "cell_type": "code",
   "execution_count": 9,
   "metadata": {},
   "outputs": [
    {
     "name": "stdout",
     "output_type": "stream",
     "text": [
      "{'params': {'D': 0.0001,\n",
      "            'a': 5.125,\n",
      "            'f': 1.0,\n",
      "            'gamma': 1.0,\n",
      "            'm': 9.931,\n",
      "            'omega': 3.749,\n",
      "            'xi': 0.0},\n",
      " 'rhs': '-0.100694794079573*velocity + '\n",
      "        '0.632684050670245*sinf(6.28318530717959*position) + '\n",
      "        '0.51606081965781*cosf(3.749*t) + 0.100694794079573',\n",
      " 'sim': {'afterstep_every': 1,\n",
      "         'number_of_threads': 4,\n",
      "         'periods': 1,\n",
      "         'steps_per_kernel_call': 200,\n",
      "         'steps_per_period': 2000},\n",
      " 'variables': {-1: <__main__.VarIndependent object at 0x7f4a25ad05f8>,\n",
      "               0: <__main__.VarDependent object at 0x7f4a25ad04e0>,\n",
      "               1: <__main__.VarDependent object at 0x7f4a25ad03c8>}}\n"
     ]
    }
   ],
   "source": [
    "def get_mako_ctx(rhs, rhs_values):\n",
    "    params = {x.name : x.value for x in Value.values_by_name.values() if isinstance(x, Param)}\n",
    "    variables = {}\n",
    "    for x in Value.values_by_name.values():\n",
    "        if isinstance(x, VarIndependent):\n",
    "            variables[-1] = x\n",
    "        elif isinstance(x, VarDependent):\n",
    "            variables[x.derivative_order] = x\n",
    "    sim = {}\n",
    "    sim['periods'] = 1\n",
    "    sim['steps_per_period'] =  2000\n",
    "    sim['steps_per_kernel_call'] = 200\n",
    "    sim['number_of_threads'] =  4\n",
    "    sim['afterstep_every'] = 1\n",
    "    \n",
    "    rhs_string = ccode(rhs.subs(Value.subs()))\n",
    "    rhs_string = rhs_string.replace('cos', 'cosf').replace('sin', 'sinf').replace('pow', 'powf')\n",
    "    \n",
    "    return {'params' : params,\n",
    "            'variables' : variables,\n",
    "            'sim' : sim,\n",
    "            'rhs' : rhs_string,\n",
    "           }\n",
    "\n",
    "import pprint\n",
    "pprint.pprint(get_mako_ctx(rhs, rhs_values))"
   ]
  },
  {
   "cell_type": "markdown",
   "metadata": {},
   "source": [
    "# code generation"
   ]
  },
  {
   "cell_type": "code",
   "execution_count": 10,
   "metadata": {},
   "outputs": [
    {
     "name": "stdout",
     "output_type": "stream",
     "text": [
      "\n"
     ]
    }
   ],
   "source": [
    "from mako.template import Template\n",
    "from mako.lookup import TemplateLookup\n",
    "import subprocess\n",
    "\n",
    "ctx = get_mako_ctx(rhs, rhs_values)\n",
    "\n",
    "lookup = TemplateLookup(directories=['/home/users/aleksander.hulist/phd/sde2'], output_encoding='utf-8', encoding_errors='replace')\n",
    "sde_template = lookup.get_template('basic_source.mako')\n",
    "kernel_source = sde_template.render(**ctx)\n",
    "\n",
    "with open(\"./basic_source_generated.cu\", 'wb') as file:\n",
    "    file.write(kernel_source)\n",
    "\n",
    "command = 'indent -linux -sob -l120 /home/users/aleksander.hulist/phd/sde2/basic_source_generated.cu'.split()\n",
    "print(subprocess.check_output(command).decode('utf-8'))"
   ]
  },
  {
   "cell_type": "markdown",
   "metadata": {},
   "source": [
    "# run"
   ]
  },
  {
   "cell_type": "code",
   "execution_count": 6,
   "metadata": {},
   "outputs": [
    {
     "name": "stdout",
     "output_type": "stream",
     "text": [
      "kernel_calls: 10\n",
      "out:\n",
      " [[[4.6004906e+00 2.2989955e+00 2.0949114e-03 1.1182864e+00 1.0975717e+00\n",
      "   1.0010799e+00]\n",
      "  [4.6004906e+00 2.2989955e+00 2.0949114e-03 1.1182864e+00 1.0975717e+00\n",
      "   1.0010799e+00]]\n",
      "\n",
      " [[4.6004906e+00 2.2989955e+00 2.0949114e-03 1.1182864e+00 1.0975717e+00\n",
      "   1.0010799e+00]\n",
      "  [4.6004906e+00 2.2989955e+00 2.0949114e-03 1.1182864e+00 1.0975717e+00\n",
      "   1.0010799e+00]]]\n",
      "\n",
      "0:  position\n",
      "1:  avg_over_period_position\n",
      "2:  avg_over_periods_velocity\n",
      "3:  velocity\n",
      "4:  avg_over_period_velocity\n",
      "5:  avg_over_periods_velocity\n",
      "\n"
     ]
    }
   ],
   "source": [
    "import pycuda.driver as cuda\n",
    "import pycuda.autoinit\n",
    "from pycuda.tools import clear_context_caches\n",
    "from pycuda.compiler import SourceModule\n",
    "import numpy as np\n",
    "from math import ceil\n",
    "import pycuda.gpuarray as gpuarray\n",
    "\n",
    "mod = SourceModule(open('basic_source_generated.cu', 'r').read(), no_extern_c=True)\n",
    "\n",
    "######## randoms\n",
    "init_func = mod.get_function(\"_Z10initkerneli\")\n",
    "# fill_func = mod.get_function(\"_Z14randfillkernelPfi\")\n",
    "seed = np.int32(123456789)\n",
    "nvalues = 1000 * 4\n",
    "init_func(seed, block=(2,2,6), grid=(1,1,1))\n",
    "\n",
    "######## run    \n",
    "gpu_summary = gpuarray.to_gpu(np.zeros((4*6)).astype(np.float32).reshape((2,2,6)))\n",
    "gpu_output = gpuarray.to_gpu(np.zeros((4*1)).astype(np.float32).reshape((2,2,1)))\n",
    "\n",
    "kernel_calls = ceil(ctx['sim']['periods'] * ctx['sim']['steps_per_period'] / ctx['sim']['steps_per_kernel_call'])\n",
    "print('kernel_calls:', kernel_calls)\n",
    "\n",
    "mod.get_function(\"prepare_simulation\")(gpu_summary, gpu_output, block=(2,2,1)) # _Z18prepare_simulationPf\n",
    "for i in range(kernel_calls):\n",
    "    mod.get_function(\"continue_simulation\")(gpu_summary, gpu_output, block=(2,2,1)) # _Z19continue_simulationv\n",
    "mod.get_function(\"end_simulation\")(gpu_summary, gpu_output, block=(2,2,1)) # _Z14end_simulationv\n",
    "\n",
    "summary = gpu_summary.get()\n",
    "print('out:\\n', summary)\n",
    "\n",
    "clear_context_caches()\n",
    "\n",
    "print(\"\"\"\n",
    "0:  position\n",
    "1:  avg_over_period_position\n",
    "2:  avg_over_periods_velocity\n",
    "3:  velocity\n",
    "4:  avg_over_period_velocity\n",
    "5:  avg_over_periods_velocity\n",
    "\"\"\")"
   ]
  }
 ],
 "metadata": {
  "kernelspec": {
   "display_name": "Python 3",
   "language": "python",
   "name": "python3"
  },
  "language_info": {
   "codemirror_mode": {
    "name": "ipython",
    "version": 3
   },
   "file_extension": ".py",
   "mimetype": "text/x-python",
   "name": "python",
   "nbconvert_exporter": "python",
   "pygments_lexer": "ipython3",
   "version": "3.6.5"
  }
 },
 "nbformat": 4,
 "nbformat_minor": 2
}
