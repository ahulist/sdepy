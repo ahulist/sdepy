{
 "cells": [
  {
   "cell_type": "markdown",
   "metadata": {},
   "source": [
    "imports"
   ]
  },
  {
   "cell_type": "code",
   "execution_count": 2,
   "metadata": {},
   "outputs": [],
   "source": [
    "import numpy as np\n",
    "from sympy import sqrt, sin, symbols, Function\n",
    "from IPython.display import display\n",
    "import operator\n",
    "import functools"
   ]
  },
  {
   "cell_type": "markdown",
   "metadata": {},
   "source": [
    "SDE"
   ]
  },
  {
   "cell_type": "code",
   "execution_count": 73,
   "metadata": {
    "scrolled": true
   },
   "outputs": [],
   "source": [
    "# F = ma = sum of:\n",
    "    # -friction [gamma]\n",
    "    # noise [xi]\n",
    "    # noise intensity [D]\n",
    "    # potential(x) [U]\n",
    "    # oscillating force amplitude [a]\n",
    "    # oscillating force(omega, t)\n",
    "    # constant force [f]\n",
    "\n",
    "class Sde():\n",
    "    \n",
    "    @staticmethod\n",
    "    def get_default_options():\n",
    "        return {\n",
    "            'simulation':{\n",
    "                'spp':100,         # steps per period\n",
    "                'periods':2,#000,    # number of periods in the simulation\n",
    "                'paths':2,#56,       # number of paths to sample\n",
    "                'samples':100,     # sample the position every N steps\n",
    "                'transients_number':200,      # number of periods to ignore\n",
    "                'transients_fraction':0.1,    # fraction of periods to ignore\n",
    "                'transients_type':'fraction', # periods to ignore because of transients (fraction, number)\n",
    "                'rng_seed':None,\n",
    "                'precision':'single',         # precision of the floating-point numbers (single, double)\n",
    "                'rng_generator':'kiss32', \n",
    "                'deterministic':False,        # do not generate any noises\n",
    "            },\n",
    "            'output':{\n",
    "                'mode':'summary',  # output mode (summary, path)\n",
    "                'format':'text',   # output file format (text, npy)\n",
    "                'destination':'./sde_out'\n",
    "            },\n",
    "            'gpu':{\n",
    "                'cuda':True,\n",
    "            },\n",
    "            'debug':{\n",
    "                'enabled':True,\n",
    "            }\n",
    "        }\n",
    "        \n",
    "    def __init__(self, variables, parameters, functions, equation, options = get_default_options.__func__()):\n",
    "        self.variables = variables\n",
    "        self.parameters = parameters\n",
    "        self.functions = functions\n",
    "        self.equation = equation\n",
    "        self.options = options\n",
    "        \n",
    "        # parameters and variables in one dict\n",
    "        self.params_vars = {**self.parameters, **self.variables}\n",
    "        \n",
    "        # name to object mapping\n",
    "        # TODO is this necessary? could just use symbols()\n",
    "        self.name_to_sympy = {}\n",
    "        for p in self.params_vars:\n",
    "            self.name_to_sympy[p.name] = p\n",
    "        \n",
    "        self._init_cuda()\n",
    "    \n",
    "    def _init_cuda(self):\n",
    "        if self.options['gpu']['cuda']:\n",
    "            import pycuda.driver as cuda\n",
    "            cuda.init()\n",
    "    \n",
    "    def _validate(self):\n",
    "        for symbol in self.equation.free_symbols:\n",
    "            if symbol not in self.params_vars:\n",
    "                raise ValueError('Value(s) for \\'%s\\' not provided.' % symbol.name)\n",
    "        \n",
    "        # dt\n",
    "        if symbols('dt') not in self.params_vars and symbols('omega') in self.params_vars:\n",
    "            self.name_to_sympy['dt'] = symbols('dt')\n",
    "            self.parameters[self.name_to_sympy['dt']] = 2*np.pi/self.parameters[self.name_to_sympy['omega']]\n",
    "        else:\n",
    "            raise ValueError('Value is provided for neither \\'dt\\' nor \\'omega\\'.')\n",
    "    \n",
    "    def _simulate(self):\n",
    "        if self.options['gpu']['cuda']:\n",
    "            self._simulate_gpu()\n",
    "        else:\n",
    "            self._simulate_cpu()\n",
    "            \n",
    "    def _simulate_cpu(self):\n",
    "        current_values = self.variables.copy()\n",
    "        \n",
    "        for path in range(self.options['simulation']['paths']):\n",
    "            dt = self.parameters[symbols('dt')]\n",
    "            \n",
    "            for period in range(self.options['simulation']['periods']):\n",
    "                for step in range(self.options['simulation']['spp']):\n",
    "                    result = self.equation.evalf(subs = current_values)\n",
    "                    current_values[self.name_to_sympy['t']] += dt\n",
    "                    current_values[self.name_to_sympy['v']] += result * dt\n",
    "                    current_values[self.name_to_sympy['x']] += current_values[self.name_to_sympy['v']] * dt\n",
    "    \n",
    "    def _prep_gpu(self):\n",
    "        # TODO:\n",
    "        # parametr o pojedynczej wartosci -> wygeneruj __constant__ na CUDA\n",
    "        # parametr o liście wartości -> przekaż tablicę do global memory\n",
    "        return\n",
    "    \n",
    "    def _simulate_gpu(self):\n",
    "        _prep_gpu()\n",
    "        return\n",
    "    \n",
    "    def start(self):\n",
    "        self._validate()\n",
    "        self._simulate()\n",
    "        \n",
    "    def indices_1D_ND(index, arrs):\n",
    "        '''\n",
    "        :param arrs:  array of arrays containing variables/parameters values\n",
    "                      e.g.: [[0], [0,1,2,3,4,5,6], range(95,105), [2], [1], [0.1, 0.01, 0.001]]\n",
    "        :param index: if all possible values combinations were produced from respectible subarrays and then flattened into 1D\n",
    "                      this is gonna be an index of values set in such 1D array\n",
    "        :returns:     array of indices for accessing desired values in arrs (indices in the same order as arrs)\n",
    "        :raises ValueError: if index out of range\n",
    "        '''\n",
    "        indices_reversed = []\n",
    "        lens = [len(x) for x in arrs]\n",
    "        max_index = functools.reduce(operator.mul, lens, 1)\n",
    "        if index < 0 or index >= max_index:\n",
    "            raise ValueError('index >= {}'.format(max_index))\n",
    "        for l in reversed(lens):\n",
    "            indices_reversed.append(index%l)\n",
    "            index = index // l\n",
    "        return(indices_reversed[::-1])\n"
   ]
  },
  {
   "cell_type": "markdown",
   "metadata": {},
   "source": [
    "usage"
   ]
  },
  {
   "cell_type": "code",
   "execution_count": 76,
   "metadata": {},
   "outputs": [],
   "source": [
    "# variables with initial values\n",
    "var_x, var_v, var_t = symbols('x v t')\n",
    "# TODO these values should not be requested from user\n",
    "variables = {\n",
    "    var_x:0,\n",
    "    var_v:1,\n",
    "    var_t:0,\n",
    "}\n",
    "\n",
    "# parameters with values\n",
    "par_gamma, par_amplitude, par_potential_aplitude, par_omega, par_const_force, par_noise_intensity \\\n",
    "    = symbols('gamma a Delta_U omega f D')\n",
    "parameters = {\n",
    "    par_gamma:1,\n",
    "    par_amplitude:1,\n",
    "    par_potential_aplitude:1,\n",
    "    par_omega:1,\n",
    "#     par_const_force:np.linspace(0, 1, 10),\n",
    "    par_const_force:1,\n",
    "    par_noise_intensity:1,\n",
    "}\n",
    "\n",
    "# functions\n",
    "def oscillation():\n",
    "    return sin\n",
    "\n",
    "def potential():\n",
    "    return sin\n",
    "\n",
    "f_potential = Function('U')\n",
    "f_oscillation = oscillation\n",
    "f_noise = Function('xi')\n",
    "functions = {f_potential, f_oscillation, f_noise}\n",
    "\n",
    "# equation\n",
    "equation = -par_gamma*var_v + par_potential_aplitude * f_potential(var_x) + par_amplitude * f_oscillation()(par_omega*var_t) \\\n",
    "    + par_const_force + sqrt(2*par_noise_intensity) * f_noise(var_t)\n",
    "equation2 = -par_gamma*var_v + par_potential_aplitude * sin(var_x) + par_amplitude * sin(par_omega*var_t) \\\n",
    "    + par_const_force + sqrt(2*par_noise_intensity)\n",
    "simple_equation = -par_potential_aplitude * potential()(var_x) + par_const_force - par_gamma * var_v\n",
    "\n",
    "# runtime options\n",
    "options = Sde.get_default_options()\n",
    "options['gpu']['cuda'] = False\n",
    "# SDE\n",
    "SDE = Sde(variables, parameters, functions, equation2, options)\n",
    "SDE.start()"
   ]
  },
  {
   "cell_type": "markdown",
   "metadata": {},
   "source": [
    "testing"
   ]
  },
  {
   "cell_type": "code",
   "execution_count": 82,
   "metadata": {},
   "outputs": [
    {
     "data": {
      "image/png": "[encoded data removed]",
      "text/latex": [
       "$$- \\Delta_{U} \\sin{\\left (x \\right )} + f - \\gamma v$$"
      ],
      "text/plain": [
       "-Δ_U⋅sin(x) + f - γ⋅v"
      ]
     },
     "metadata": {},
     "output_type": "display_data"
    },
    {
     "data": {
      "image/png": "[encoded data removed]",
      "text/latex": [
       "$$\\left\\{\\Delta_{U}, f, \\gamma, v, x\\right\\}$$"
      ],
      "text/plain": [
       "set([Δ_U, f, γ, v, x])"
      ]
     },
     "metadata": {},
     "output_type": "display_data"
    },
    {
     "name": "stdout",
     "output_type": "stream",
     "text": [
      "{Delta_U, gamma, v, f, x}\n",
      "U\n",
      "{x: 0, v: 1, t: 0}\n"
     ]
    },
    {
     "data": {
      "image/png": "[encoded data removed]",
      "text/latex": [
       "$$- \\Delta_{U} \\sin{\\left (x \\right )} + f - \\gamma v$$"
      ],
      "text/plain": [
       "-Δ_U⋅sin(x) + f - γ⋅v"
      ]
     },
     "metadata": {},
     "output_type": "display_data"
    },
    {
     "data": {
      "image/png": "[encoded data removed]",
      "text/latex": [
       "$$-26.272107719523$$"
      ],
      "text/plain": [
       "-26.2721077195230"
      ]
     },
     "metadata": {},
     "output_type": "display_data"
    }
   ],
   "source": [
    "from sympy import init_printing\n",
    "init_printing()\n",
    "\n",
    "equation = simple_equation\n",
    "\n",
    "display(equation)\n",
    "display(equation.free_symbols)\n",
    "print(equation.free_symbols)\n",
    "print(f_potential)\n",
    "print(variables)\n",
    "\n",
    "display(equation.evalf())\n",
    "display(equation.evalf(subs={par_const_force:1, par_gamma:3, var_v:10, var_x:2, par_potential_aplitude:-3}))"
   ]
  },
  {
   "cell_type": "code",
   "execution_count": 57,
   "metadata": {},
   "outputs": [
    {
     "name": "stdout",
     "output_type": "stream",
     "text": [
      "42.0*a + 40*b - 2.0*c\n",
      "{b, c, a}\n",
      "[{a: -0.952380952380952*b + 0.0476190476190476*c}]\n",
      "9.00000000000000\n"
     ]
    }
   ],
   "source": [
    "from sympy import Symbol, solve\n",
    "aa = Symbol(\"a\")\n",
    "bb = Symbol(\"b\")\n",
    "cc = Symbol(\"c\")\n",
    "exp = (aa+bb)*40-(cc-aa)/0.5\n",
    "print(exp)\n",
    "print(exp.free_symbols)\n",
    "print(solve(exp))\n",
    "print(exp.evalf(subs={aa:0.2, 'b':0.05, 'c':0.7}))"
   ]
  },
  {
   "cell_type": "code",
   "execution_count": 66,
   "metadata": {},
   "outputs": [
    {
     "name": "stdout",
     "output_type": "stream",
     "text": [
      "[[ 1.88137901 -1.03420198 -3.05230021 -4.10058928]\n",
      " [ 1.13113844 -0.6754241  -0.1893848  -0.34039509]\n",
      " [-0.03850011 -0.04408523 -0.59397918  1.5112803 ]\n",
      " [ 0.26631567  0.6616053  -1.30357599 -0.57462847]]\n",
      "[[ 0.9406895  -0.51710099 -1.52615011 -2.05029464]\n",
      " [ 0.56556922 -0.33771205 -0.0946924  -0.17019755]\n",
      " [-0.01925005 -0.02204261 -0.29698959  0.75564015]\n",
      " [ 0.13315783  0.33080265 -0.651788   -0.28731424]]\n"
     ]
    }
   ],
   "source": [
    "import numpy\n",
    "import pycuda.driver as cuda\n",
    "import pycuda.autoinit\n",
    "from pycuda.compiler import SourceModule\n",
    "\n",
    "a = numpy.random.randn(4,4)       # random numers\n",
    "a = a.astype(numpy.float32)       # to single precision\n",
    "a_gpu = cuda.mem_alloc(a.nbytes)  # allocate memory on device\n",
    "cuda.memcpy_htod(a_gpu, a)        # copy data to allocated memory\n",
    "# code to execute\n",
    "mod = SourceModule(\"\"\"\n",
    "  __global__ void doublify(float *a)\n",
    "  {\n",
    "    int idx = threadIdx.x + threadIdx.y*4;\n",
    "    a[idx] *= 2;\n",
    "  }\n",
    "  \"\"\")\n",
    "func = mod.get_function(\"doublify\") # get the function to call\n",
    "func(a_gpu, block=(4,4,1))          # and call it\n",
    "a_doubled = numpy.empty_like(a)     # preallocate numpy array\n",
    "cuda.memcpy_dtoh(a_doubled, a_gpu)  # and put the results there\n",
    "print (a_doubled)\n",
    "print (a)"
   ]
  },
  {
   "cell_type": "code",
   "execution_count": 5,
   "metadata": {},
   "outputs": [
    {
     "name": "stdout",
     "output_type": "stream",
     "text": [
      "[0, 0, 0, 0, 0, 1]\n"
     ]
    }
   ],
   "source": [
    "import functools\n",
    "import operator\n",
    "def indices_1D_ND(index, arrs):\n",
    "    '''\n",
    "    :param arrs:  array of arrays containing variables/parameters values\n",
    "                  e.g.: [[0], [0,1,2,3,4,5,6], range(95,105), [2], [1], [0.1, 0.01, 0.001]]\n",
    "    :param index: if all possible values combinations were produced from respectible subarrays and then flattened into 1D\n",
    "                  this is gonna be an index of values set in such 1D array\n",
    "    :returns:     array of indices for accessing desired values in arrs (indices in the same order as arrs)\n",
    "    :raises ValueError: if index out of range\n",
    "    '''\n",
    "    indices_reversed = []\n",
    "    lens = [len(x) for x in arrs]\n",
    "    max_index = functools.reduce(operator.mul, lens, 1)\n",
    "    if index < 0 or index >= max_index:\n",
    "        raise ValueError('index >= {}'.format(max_index))\n",
    "    for l in reversed(lens):\n",
    "        indices_reversed.append(index%l)\n",
    "        index = index // l\n",
    "    return(indices_reversed[::-1])\n",
    "\n",
    "aaa = [[0], [0,1,2,3,4,5,6], range(95,105), [2], [1], [0.1, 0.01, 0.001]]\n",
    "res = indices_1D_ND(1, aaa)\n",
    "print(res)"
   ]
  },
  {
   "cell_type": "code",
   "execution_count": 70,
   "metadata": {},
   "outputs": [
    {
     "name": "stdout",
     "output_type": "stream",
     "text": [
      "hello world!\n"
     ]
    }
   ],
   "source": [
    "from mako.template import Template\n",
    "print(Template(\"hello ${data}!\").render(data=\"world\"))"
   ]
  }
 ],
 "metadata": {
  "kernelspec": {
   "display_name": "Python 3",
   "language": "python",
   "name": "python3"
  },
  "language_info": {
   "codemirror_mode": {
    "name": "ipython",
    "version": 3
   },
   "file_extension": ".py",
   "mimetype": "text/x-python",
   "name": "python",
   "nbconvert_exporter": "python",
   "pygments_lexer": "ipython3",
   "version": "3.6.5"
  }
 },
 "nbformat": 4,
 "nbformat_minor": 2
}
