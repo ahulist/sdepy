{
 "cells": [
  {
   "cell_type": "markdown",
   "metadata": {},
   "source": [
    "# todo"
   ]
  },
  {
   "cell_type": "markdown",
   "metadata": {},
   "source": [
    "zrobić wektor rhs\n",
    "\n",
    "zamienic hardcodowane nazwy position, velocity na to co trzeba\n",
    "\n",
    "predictor/corrector i zobaczyc jaka jest roznica\n",
    "\n",
    "domyślne wartości SDE_VarIndependent\n",
    "\n",
    "ścieżki\n",
    "\n",
    "sde.rhs = ... # setter\n",
    "\n",
    "czyszczenie przestrzeni nazw jako extra feature\n",
    "\n",
    "warningi jesli zmienne juz istnieja w przestrzeni globalnej\n",
    "\n",
    "okresowe położenie\n",
    "\n",
    "walidacja i performance\n",
    "\n",
    "porównanie szumów kuby i curanda"
   ]
  },
  {
   "cell_type": "markdown",
   "metadata": {},
   "source": [
    "# sympy"
   ]
  },
  {
   "cell_type": "code",
   "execution_count": 42,
   "metadata": {},
   "outputs": [
    {
     "data": {
      "text/html": [
       "<style>.container { width:80% !important; }</style>"
      ],
      "text/plain": [
       "<IPython.core.display.HTML object>"
      ]
     },
     "metadata": {},
     "output_type": "display_data"
    }
   ],
   "source": [
    "from IPython.core.display import display, HTML\n",
    "display(HTML(\"<style>.container { width:80% !important; }</style>\"))\n",
    "\n",
    "import pickle\n",
    "import collections\n",
    "from IPython.display import display\n",
    "from sympy.printing import ccode\n",
    "from sympy import cos, Symbol, symbols, Function, init_printing, Float\n",
    "import sympy\n",
    "import numpy as np\n",
    "import pandas as pd\n",
    "from mako.template import Template\n",
    "from mako.lookup import TemplateLookup\n",
    "import subprocess\n",
    "import six\n",
    "import pycuda.driver as cuda\n",
    "import pycuda.autoinit\n",
    "from pycuda.tools import clear_context_caches\n",
    "from pycuda.compiler import SourceModule\n",
    "import numpy as np\n",
    "from math import ceil\n",
    "import pycuda.gpuarray as gpuarray\n",
    "\n",
    "pd.set_option('display.height', 1000)\n",
    "pd.set_option('display.max_rows', 500)\n",
    "pd.set_option('display.max_columns', 500)\n",
    "pd.set_option('display.width', 1200)\n",
    "\n",
    "class SDE_Param:\n",
    "    def __init__(self, name, value):\n",
    "        self.name = name\n",
    "        self.value = value\n",
    "        self.s = Symbol(self.name)\n",
    "    def fill_data(self, data):\n",
    "        new_data = {name: None for name in list(data)}\n",
    "        new_data['sympy_symbol'] = self.s\n",
    "        new_data['type'] = 'parameter'\n",
    "        if not isinstance(self.value, collections.Iterable):\n",
    "            self.value = [self.value]\n",
    "        new_data['values'] = np.array(self.value)\n",
    "        \n",
    "        data.loc[self.name] = new_data\n",
    "        \n",
    "class SDE_VarDependent:\n",
    "    def __init__(self, name, initial_value, derivative_order):\n",
    "        self.name = name\n",
    "        self.initial_value = initial_value\n",
    "        self.derivative_order = derivative_order\n",
    "        self.s = Symbol(self.name)\n",
    "    def fill_data(self, data):\n",
    "        new_data = {name: None for name in list(data)}\n",
    "        new_data['sympy_symbol'] = self.s\n",
    "        new_data['type'] = 'dependent variable'\n",
    "        new_data['values'] = self.initial_value\n",
    "        new_data['derivative_order'] = self.derivative_order\n",
    "        \n",
    "        data.loc[self.name] = new_data\n",
    "        \n",
    "class SDE_VarIndependent:\n",
    "    def __init__(self, name, initial_value, step):\n",
    "        self.name = name\n",
    "        self.initial_value = initial_value\n",
    "        self.step = step\n",
    "        self.s = Symbol(self.name)\n",
    "    def fill_data(self, data):\n",
    "        new_data = {name: None for name in list(data)}\n",
    "        new_data['sympy_symbol'] = self.s\n",
    "        new_data['type'] = 'independent variable'\n",
    "        new_data['values'] = self.initial_value\n",
    "        new_data['step'] = self.step\n",
    "        \n",
    "        data.loc[self.name] = new_data\n",
    "        \n",
    "class SDE_Function:\n",
    "    def __init__(self, name, sympy_function):\n",
    "        self.name = name\n",
    "        self.s = sympy_function\n",
    "    def fill_data(self, data):\n",
    "        new_data = {name: None for name in list(data)}\n",
    "        new_data['sympy_symbol'] = self.s\n",
    "        new_data['type'] = 'function'\n",
    "\n",
    "        data.loc[self.name] = new_data\n",
    "\n",
    "class SDE_Noise:\n",
    "    # https://docs.nvidia.com/cuda/curand/device-api-overview.html#distributions\n",
    "    def __init__(self, name, noise_type):\n",
    "        self.name = name\n",
    "        self.s = Symbol(self.name)\n",
    "        self.noise_type = noise_type\n",
    "    def fill_data(self, data):\n",
    "        new_data = {name: None for name in list(data)}\n",
    "        new_data['sympy_symbol'] = self.s\n",
    "        new_data['type'] = 'noise'\n",
    "        new_data['values'] = {'noise type': self.noise_type}\n",
    "\n",
    "        data.loc[self.name] = new_data\n",
    "\n",
    "class bidict(dict):\n",
    "    def __init__(self, *args, **kwargs):\n",
    "        super(bidict, self).__init__(*args, **kwargs)\n",
    "        self.inverse = {}\n",
    "        for key, value in self.items():\n",
    "            self.inverse.setdefault(value,[]).append(key) \n",
    "    def __setitem__(self, key, value):\n",
    "        if key in self:\n",
    "            self.inverse[self[key]].remove(key) \n",
    "        super(bidict, self).__setitem__(key, value)\n",
    "        self.inverse.setdefault(value,[]).append(key)        \n",
    "    def __delitem__(self, key):\n",
    "        self.inverse.setdefault(self[key],[]).remove(key)\n",
    "        if self[key] in self.inverse and not self.inverse[self[key]]: \n",
    "            del self.inverse[self[key]]\n",
    "        super(bidict, self).__delitem__(key)\n",
    "\n",
    "class SDE:\n",
    "    def __init__(self, *values):\n",
    "        self._rhs = None\n",
    "        self.rhs_string = None\n",
    "        self.settings = None\n",
    "        self.lookup = bidict() # maps name to data index in mako\n",
    "        self.columns = ['sympy_symbol', 'type', 'values', 'step', 'derivative_order']\n",
    "        self.data = pd.DataFrame(columns=self.columns, dtype='object')\n",
    "        \n",
    "        globals_dict = globals()\n",
    "        for value in values:\n",
    "            # TODO: warning ze taka zmienna juz istnieje\n",
    "            value.fill_data(self.data)\n",
    "            globals_dict[value.name] = value.s\n",
    "    @property\n",
    "    def rhs(self):\n",
    "        return self._rhs\n",
    "    @rhs.setter\n",
    "    def rhs(self, value):\n",
    "        self._rhs = value\n",
    "    def deglobalize(self):\n",
    "        globals_dict = globals()\n",
    "        for name in self.data.index.values:\n",
    "            del globals_dict[name]\n",
    "    def solve(self, settings):\n",
    "        self.settings = settings\n",
    "        # self.deglobalize()\n",
    "        self.rhs_string = [self.get_c_code(rhs_item) for rhs_item in rhs]\n",
    "        print(self.rhs_string)\n",
    "        self.generate_cuda_code()\n",
    "        self.run_cuda()\n",
    "    def get_c_code(self, rhs):\n",
    "        return ccode(rhs.subs(self.get_0subs())) \\\n",
    "            .replace('cos', 'cosf') \\\n",
    "            .replace('sin', 'sinf') \\\n",
    "            .replace('pow', 'powf')\n",
    "    def get_0subs(self): # FIXME\n",
    "        subs = {}\n",
    "        for index, row in self.data.loc[self.data['type'] == 'parameter'].iterrows():\n",
    "            subs[index] = row['values'][0]\n",
    "        return subs\n",
    "    def get_default_settings(self):\n",
    "        return {\n",
    "            'simulation':{\n",
    "                'steps_per_kernel_call' : 200,\n",
    "                'steps_per_period' : 2000,\n",
    "                'periods' : 1,                  # number of periods in the simulation\n",
    "                'number_of_threads' : 4,\n",
    "                'afterstep_every' : 1,\n",
    "#                 'paths':2,#56,                # number of paths to sample\n",
    "#                 'samples':100,                # sample the position every N steps\n",
    "#                 'transients_number':200,      # number of periods to ignore\n",
    "#                 'transients_fraction':0.1,    # fraction of periods to ignore\n",
    "#                 'transients_type':'fraction', # periods to ignore because of transients (fraction, number)\n",
    "#                 'rng_seed':None,\n",
    "#                 'precision':'single',         # precision of the floating-point numbers (single, double)\n",
    "#                 'rng_generator':'kiss32', \n",
    "#                 'deterministic':False,        # do not generate any noises\n",
    "            },\n",
    "            'output':{\n",
    "#                 'mode':'summary',  # output mode (summary, path)\n",
    "#                 'format':'text',   # output file format (text, npy)\n",
    "#                 'destination':'./sde_out'\n",
    "            },\n",
    "            'gpu':{\n",
    "                'cuda':True,\n",
    "            },\n",
    "            'debug':{\n",
    "                'enabled':True,\n",
    "            }\n",
    "        }\n",
    "    def generate_cuda_code(self):\n",
    "        lookup = TemplateLookup(directories=['/home/users/aleksander.hulist/phd/sde2'], output_encoding='utf-8', encoding_errors='replace')\n",
    "        sde_template = lookup.get_template('basic_source2.mako')\n",
    "        kernel_source = sde_template.render(sde=self)\n",
    "\n",
    "        with open(\"./basic_source_generated2.cu\", 'wb') as file:\n",
    "            file.write(kernel_source)\n",
    "\n",
    "        command = 'indent -linux -sob -l120 /home/users/aleksander.hulist/phd/sde2/basic_source_generated2.cu'.split()\n",
    "        command = 'clang-format -style=google -i /home/users/aleksander.hulist/phd/sde2/basic_source_generated2.cu'.split()\n",
    "        print(subprocess.check_output(command).decode('utf-8'))\n",
    "    def row_iterator(self, col_name, values):\n",
    "        if not (isinstance(values, collections.Iterable) and not isinstance(values, six.string_types)):\n",
    "            values = [values]\n",
    "        return self.data.loc[self.data[col_name].isin(values)].itertuples()\n",
    "    def run_cuda(self):\n",
    "        mod = SourceModule(open('basic_source_generated2.cu', 'r').read(), no_extern_c=True)\n",
    "\n",
    "        ######## randoms\n",
    "        # https://stackoverflow.com/questions/46169633/how-to-generate-random-number-inside-pycuda-kernel\n",
    "\n",
    "        init_func = mod.get_function(\"_Z10initkerneli\")\n",
    "        # fill_func = mod.get_function(\"_Z14randfillkernelPfi\")\n",
    "        seed = np.int32(123456789)\n",
    "        nvalues = 1000 * 4\n",
    "        init_func(seed, block=(2,2,6), grid=(1,1,1))\n",
    "\n",
    "        ######## runs    \n",
    "        # https://en.wikipedia.org/wiki/Name_mangling#How_different_compilers_mangle_the_same_functions\n",
    "\n",
    "        gpu_summary = gpuarray.to_gpu(np.zeros((4*6)).astype(np.float32).reshape((2,2,6)))\n",
    "        gpu_output = gpuarray.to_gpu(np.zeros((4*1)).astype(np.float32).reshape((2,2,1)))\n",
    "\n",
    "        kernel_calls = ceil(sde.settings['simulation']['periods'] * sde.settings['simulation']['steps_per_period'] / sde.settings['simulation']['steps_per_kernel_call'])\n",
    "        print('kernel_calls:', kernel_calls)\n",
    "\n",
    "        mod.get_function(\"prepare_simulation\")(gpu_summary, gpu_output, block=(2,2,1)) # _Z18prepare_simulationPf\n",
    "        for i in range(kernel_calls):\n",
    "            mod.get_function(\"continue_simulation\")(gpu_summary, gpu_output, block=(2,2,1)) # _Z19continue_simulationv\n",
    "        mod.get_function(\"end_simulation\")(gpu_summary, gpu_output, block=(2,2,1)) # _Z14end_simulationv\n",
    "\n",
    "        summary = gpu_summary.get()\n",
    "        print('out:\\n', summary)\n",
    "\n",
    "        clear_context_caches()\n",
    "\n",
    "        print(\"\"\"\n",
    "        0:  position\n",
    "        1:  avg_over_period_position\n",
    "        2:  avg_over_periods_position\n",
    "        3:  velocity\n",
    "        4:  avg_over_period_velocity\n",
    "        5:  avg_over_periods_velocity\n",
    "        \"\"\")\n"
   ]
  },
  {
   "cell_type": "markdown",
   "metadata": {},
   "source": [
    "# user part:"
   ]
  },
  {
   "cell_type": "code",
   "execution_count": 45,
   "metadata": {},
   "outputs": [
    {
     "name": "stdout",
     "output_type": "stream",
     "text": [
      "[velocity, 1.0*(D*xi + a*cos(omega*t) + f - gamma*velocity + 2*pi*sin(2*pi*position))/m]\n",
      "['velocity', '-0.100694794079146*velocity + 0.201389588158292*M_PI*sinf(2*M_PI*position) + 0.415366025576478*cosf(3.749*t) + 0.100694794079146']\n",
      "\n",
      "kernel_calls: 10\n",
      "out:\n",
      " [[[4.5800014 0.        2.2884564 1.1491704 0.        1.0926267]\n",
      "  [4.5800014 0.        2.2884564 1.1491704 0.        1.0926267]]\n",
      "\n",
      " [[4.5800014 0.        2.2884564 1.1491704 0.        1.0926267]\n",
      "  [4.5800014 0.        2.2884564 1.1491704 0.        1.0926267]]]\n",
      "\n",
      "        0:  position\n",
      "        1:  avg_over_period_position\n",
      "        2:  avg_over_periods_position\n",
      "        3:  velocity\n",
      "        4:  avg_over_period_velocity\n",
      "        5:  avg_over_periods_velocity\n",
      "        \n"
     ]
    }
   ],
   "source": [
    "sde = SDE(\n",
    "    SDE_Param('m', [9.931, 9.831, 9.731]),\n",
    "    SDE_Param('gamma', 1.0),\n",
    "    SDE_Param('a', np.linspace(5.125-1, 5.125+1, 5)),\n",
    "    SDE_Param('omega', 3.749),\n",
    "    SDE_Param('f', 1.0),\n",
    "    SDE_Param('D', 0.0),\n",
    "    SDE_Noise('xi', 'uniform'),\n",
    "    SDE_VarDependent('position', 0.0, 0),\n",
    "    SDE_VarDependent('velocity', 1.0, 1),\n",
    "    SDE_VarIndependent('t', 0.0,  0.0020949113096826),\n",
    "    SDE_Function('U', lambda x: sympy.cos(2*sympy.pi*x))\n",
    ")\n",
    "sde.rhs = [\n",
    "    velocity,\n",
    "    1.0 / m * (-gamma * velocity - sympy.diff(U(position), position) + a * sympy.cos(omega * t) + f + D * xi)\n",
    "]\n",
    "sde.solve(sde.get_default_settings())"
   ]
  },
  {
   "cell_type": "markdown",
   "metadata": {},
   "source": [
    "# sneak peeks:"
   ]
  },
  {
   "cell_type": "code",
   "execution_count": 15,
   "metadata": {},
   "outputs": [
    {
     "name": "stdout",
     "output_type": "stream",
     "text": [
      "data:\n",
      "                                    sympy_symbol                  type                               values        step derivative_order\n",
      "m                                             m             parameter                [9.931, 9.831, 9.731]        None             None\n",
      "gamma                                     gamma             parameter                                [1.0]        None             None\n",
      "a                                             a             parameter  [4.125, 4.625, 5.125, 5.625, 6.125]        None             None\n",
      "omega                                     omega             parameter                              [3.749]        None             None\n",
      "f                                             f             parameter                                [1.0]        None             None\n",
      "D                                             D             parameter                                [0.0]        None             None\n",
      "xi                                           xi                 noise            {'noise type': 'uniform'}        None             None\n",
      "position                               position    dependent variable                                    0        None                0\n",
      "velocity                               velocity    dependent variable                                    1        None                1\n",
      "t                                             t  independent variable                                    0  0.00209491             None\n",
      "U         <function <lambda> at 0x7f2363eef8c8>              function                                 None        None             None\n",
      "\n",
      "\n",
      "default settings:\n",
      "\n",
      "{'debug': {'enabled': True},\n",
      " 'gpu': {'cuda': True},\n",
      " 'output': {},\n",
      " 'simulation': {'afterstep_every': 1,\n",
      "                'number_of_threads': 4,\n",
      "                'periods': 1,\n",
      "                'steps_per_kernel_call': 200,\n",
      "                'steps_per_period': 2000}}\n",
      "\n",
      "\n",
      "equation:\n",
      "\n"
     ]
    },
    {
     "data": {
      "image/png": "[encoded data removed]",
      "text/latex": [
       "$$\\left [ velocity, \\quad \\frac{1}{m} \\left(1.0 D \\xi + 1.0 a \\cos{\\left (\\omega t \\right )} + 1.0 f - 1.0 \\gamma velocity + 6.28318530717959 \\sin{\\left (6.28318530717959 position \\right )}\\right)\\right ]$$"
      ],
      "text/plain": [
       "⎡          1.0⋅(D⋅ξ + a⋅cos(ω⋅t) + f - γ⋅velocity + 6.28318530717959⋅sin(6.283\n",
       "⎢velocity, ───────────────────────────────────────────────────────────────────\n",
       "⎣                                                      m                      \n",
       "\n",
       "18530717959⋅position))⎤\n",
       "──────────────────────⎥\n",
       "                      ⎦"
      ]
     },
     "metadata": {},
     "output_type": "display_data"
    },
    {
     "name": "stdout",
     "output_type": "stream",
     "text": [
      "\n",
      "\n",
      "free symbols:\n",
      "\n"
     ]
    },
    {
     "data": {
      "image/png": "[encoded data removed]",
      "text/latex": [
       "$$\\left [ \\left\\{velocity\\right\\}, \\quad \\left\\{D, a, f, \\gamma, m, \\omega, position, t, velocity, \\xi\\right\\}\\right ]$$"
      ],
      "text/plain": [
       "[set([velocity]), set([D, a, f, γ, m, ω, position, t, velocity, ξ])]"
      ]
     },
     "metadata": {},
     "output_type": "display_data"
    },
    {
     "name": "stdout",
     "output_type": "stream",
     "text": [
      "\n",
      "\n",
      "equation with substituted [0]values:\n",
      "\n"
     ]
    },
    {
     "data": {
      "image/png": "[encoded data removed]",
      "text/latex": [
       "$$\\left [ velocity, \\quad - 0.100694794079146 velocity + 0.632684050667565 \\sin{\\left (6.28318530717959 position \\right )} + 0.415366025576478 \\cos{\\left (3.749 t \\right )} + 0.100694794079146\\right ]$$"
      ],
      "text/plain": [
       "[velocity, -0.100694794079146⋅velocity + 0.632684050667565⋅sin(6.2831853071795\n",
       "9⋅position) + 0.415366025576478⋅cos(3.749⋅t) + 0.100694794079146]"
      ]
     },
     "metadata": {},
     "output_type": "display_data"
    }
   ],
   "source": [
    "print('data:\\n', sde.data)\n",
    "\n",
    "import pprint\n",
    "print('\\n\\ndefault settings:\\n')\n",
    "pprint.pprint(sde.get_default_settings())\n",
    "\n",
    "init_printing()\n",
    "print('\\n\\nequation:\\n')\n",
    "display(sde.rhs)\n",
    "print('\\n\\nfree symbols:\\n')\n",
    "display(list(eq.free_symbols for eq in sde.rhs))\n",
    "print('\\n\\nequation with substituted [0]values:\\n')\n",
    "display(list(eq.subs(sde.get_0subs()) for eq in sde.rhs))\n",
    "# display(rhs.subs(Value.subs_uneval()))"
   ]
  },
  {
   "cell_type": "markdown",
   "metadata": {},
   "source": [
    "# testy"
   ]
  },
  {
   "cell_type": "markdown",
   "metadata": {},
   "source": [
    "### 1"
   ]
  },
  {
   "cell_type": "code",
   "execution_count": 23,
   "metadata": {},
   "outputs": [
    {
     "data": {
      "image/png": "[encoded data removed]",
      "text/plain": [
       "<Figure size 432x288 with 1 Axes>"
      ]
     },
     "metadata": {},
     "output_type": "display_data"
    },
    {
     "name": "stdout",
     "output_type": "stream",
     "text": [
      "[[ 0.00000000e+00  7.07106781e+00]\n",
      " [ 7.06616156e-03  7.06125531e+00]\n",
      " [ 1.41225106e-02  7.05144281e+00]\n",
      " ...\n",
      " [-5.44524674e+00 -1.25244947e+01]\n",
      " [-5.45777614e+00 -1.25343072e+01]\n",
      " [-5.47031535e+00 -1.25441197e+01]]\n",
      "[ 0.53077104 -2.73652594]\n"
     ]
    }
   ],
   "source": [
    "# https://docs.scipy.org/doc/scipy/reference/generated/scipy.integrate.odeint.html\n",
    "\n",
    "from scipy.integrate import odeint\n",
    "import numpy as np\n",
    "import matplotlib.pyplot as plt\n",
    "\n",
    "def f(z, t):\n",
    "    x, v = z\n",
    "    dzdt = [v, -9.8125]\n",
    "    return dzdt\n",
    "\n",
    "z0 = [0, 10*np.sin(np.pi/4)]\n",
    "t = [0.001*x for x in range(2000)]\n",
    "\n",
    "sol = odeint(f, z0, t)\n",
    "\n",
    "plt.plot(sol[:, 0], 'r')\n",
    "plt.plot(sol[:, 1], 'g')\n",
    "plt.show()\n",
    "\n",
    "print(sol)\n",
    "print(np.mean(np.array(sol), axis=0))"
   ]
  },
  {
   "cell_type": "code",
   "execution_count": 24,
   "metadata": {},
   "outputs": [
    {
     "name": "stdout",
     "output_type": "stream",
     "text": [
      "{'debug': {'enabled': True},\n",
      " 'gpu': {'cuda': True},\n",
      " 'output': {},\n",
      " 'simulation': {'afterstep_every': 1,\n",
      "                'number_of_threads': 4,\n",
      "                'periods': 1,\n",
      "                'steps_per_kernel_call': 200,\n",
      "                'steps_per_period': 2000}}\n",
      "['velocity', '-9.81250000000000']\n",
      "\n",
      "kernel_calls: 10\n",
      "out:\n",
      " [[[ -5.472953    0.          0.5357077 -12.553791    0.\n",
      "    -2.7400131]\n",
      "  [ -5.472953    0.          0.5357077 -12.553791    0.\n",
      "    -2.7400131]]\n",
      "\n",
      " [[ -5.472953    0.          0.5357077 -12.553791    0.\n",
      "    -2.7400131]\n",
      "  [ -5.472953    0.          0.5357077 -12.553791    0.\n",
      "    -2.7400131]]]\n",
      "\n",
      "        0:  position\n",
      "        1:  avg_over_period_position\n",
      "        2:  avg_over_periods_position\n",
      "        3:  velocity\n",
      "        4:  avg_over_period_velocity\n",
      "        5:  avg_over_periods_velocity\n",
      "        \n"
     ]
    }
   ],
   "source": [
    "import pprint\n",
    "\n",
    "sde = SDE(\n",
    "    SDE_Param('m', 1.0),\n",
    "    SDE_Param('f', 9.8125),\n",
    "    SDE_VarDependent('position', 0.0, 0),\n",
    "    SDE_VarDependent('velocity', 10*np.sin(np.pi/4), 1),\n",
    "    SDE_VarIndependent('t', 0.0, 0.001),\n",
    ")\n",
    "rhs = [velocity, -f/m]\n",
    "settings = sde.get_default_settings()\n",
    "pprint.pprint(settings)\n",
    "sde.solve(rhs, settings)"
   ]
  },
  {
   "cell_type": "markdown",
   "metadata": {},
   "source": [
    "### 2"
   ]
  },
  {
   "cell_type": "code",
   "execution_count": null,
   "metadata": {},
   "outputs": [],
   "source": [
    "sde = SDE(\n",
    "    SDE_Param('b', 0.25),\n",
    "    SDE_Param('c', 5.0),\n",
    "    SDE_VarDependent('position', np.pi - 0.1, 0),\n",
    "    SDE_VarDependent('velocity', 0.0, 1),\n",
    "    SDE_VarIndependent('t', 0.0, 0.001),\n",
    ")\n",
    "rhs = -b*velocity - c*sympy.sin(position)\n",
    "settings = sde.get_default_settings()\n",
    "settings['simulation']['steps_per_period'] = settings['simulation']['steps_per_kernel_call'] = 10000\n",
    "print(settings)\n",
    "sde.solve(rhs, settings)"
   ]
  },
  {
   "cell_type": "code",
   "execution_count": null,
   "metadata": {},
   "outputs": [],
   "source": [
    "import numpy as np, matplotlib.pyplot as plt, matplotlib.font_manager as fm,os\n",
    "from scipy.integrate import odeint\n",
    "from mpl_toolkits.mplot3d.axes3d import Axes3D\n",
    "\n",
    "initial_state = [0.1, 0, 0, 1,1,1]\n",
    "a = 4\n",
    "time_points = np.linspace(0, 100, 10000)\n",
    "\n",
    "def my_system(current_state, t):\n",
    "    theta1, theta2, theta3, omega1, omega2, omega3 = current_state\n",
    "\n",
    "    d2theta1_dt2 = -a*(2*theta1-theta2-theta3)\n",
    "    d2theta2_dt2 = -a*(2*theta2-theta1-theta3)\n",
    "    d2theta3_dt2 = -a*(2*theta3-theta1-theta2)\n",
    "\n",
    "    return [ omega1, omega2, omega3, d2theta1_dt2, d2theta2_dt2, d2theta3_dt2]\n",
    "\n",
    "xyz = odeint(my_system, initial_state, time_points)\n",
    "\n",
    "theta1 = xyz[:, 0]\n",
    "theta2 = xyz[:, 1]\n",
    "theta3 = xyz[:, 2]\n",
    "\n",
    "fig = plt.figure(figsize=(12, 9))\n",
    "ax = fig.gca(projection='3d')\n",
    "ax.xaxis.set_pane_color((1,1,1,1))\n",
    "ax.yaxis.set_pane_color((1,1,1,1))\n",
    "ax.zaxis.set_pane_color((1,1,1,1))\n",
    "ax.plot(theta1, theta2, theta3, color='g', alpha=0.7, linewidth=0.6)\n",
    "ax.set_title('plot')\n",
    "plt.show()"
   ]
  },
  {
   "cell_type": "markdown",
   "metadata": {},
   "source": [
    "### 3"
   ]
  },
  {
   "cell_type": "code",
   "execution_count": 38,
   "metadata": {},
   "outputs": [
    {
     "name": "stdout",
     "output_type": "stream",
     "text": [
      "{'debug': {'enabled': True},\n",
      " 'gpu': {'cuda': True},\n",
      " 'output': {},\n",
      " 'simulation': {'afterstep_every': 1,\n",
      "                'number_of_threads': 4,\n",
      "                'periods': 1000,\n",
      "                'steps_per_kernel_call': 200,\n",
      "                'steps_per_period': 800}}\n",
      "['velocity', '-10.0*velocity - 62.8318530717959*cosf(6.28318530717959*position) + 85.5*cosf(12.38*t) + 5.0']\n",
      "\n",
      "kernel_calls: 4000\n",
      "out:\n",
      " [[[ 2.5596440e+02  6.4182869e+01  2.2378731e+02 -5.5432410e+00\n",
      "   -4.9028698e-01  2.3748314e-01]\n",
      "  [ 2.5596440e+02  6.4182869e+01  2.2378731e+02 -5.5432410e+00\n",
      "   -4.9028698e-01  2.3748314e-01]]\n",
      "\n",
      " [[ 2.5596440e+02  6.4182869e+01  2.2378731e+02 -5.5432410e+00\n",
      "   -4.9028698e-01  2.3748314e-01]\n",
      "  [ 2.5596440e+02  6.4182869e+01  2.2378731e+02 -5.5432410e+00\n",
      "   -4.9028698e-01  2.3748314e-01]]]\n",
      "\n",
      "        0:  position\n",
      "        1:  avg_over_period_position\n",
      "        2:  avg_over_periods_position\n",
      "        3:  velocity\n",
      "        4:  avg_over_period_velocity\n",
      "        5:  avg_over_periods_velocity\n",
      "        \n",
      "data:\n",
      "                                    sympy_symbol                  type   values       step derivative_order\n",
      "m                                             m             parameter    [0.1]       None             None\n",
      "gamma                                     gamma             parameter    [1.0]       None             None\n",
      "a                                             a             parameter   [8.55]       None             None\n",
      "omega                                     omega             parameter  [12.38]       None             None\n",
      "f                                             f             parameter    [0.5]       None             None\n",
      "position                               position    dependent variable        0       None                0\n",
      "velocity                               velocity    dependent variable        0       None                1\n",
      "t                                             t  independent variable        0  0.0020944             None\n",
      "U         <function <lambda> at 0x7fd4eafbf840>              function     None       None             None\n",
      "\n",
      "\n",
      "equation:\n",
      "\n"
     ]
    },
    {
     "data": {
      "image/png": "[encoded data removed]",
      "text/latex": [
       "$$\\left [ velocity, \\quad \\frac{1}{m} \\left(1.0 a \\cos{\\left (\\omega t \\right )} + 1.0 f - 1.0 \\gamma velocity - 6.28318530717959 \\cos{\\left (6.28318530717959 position \\right )}\\right)\\right ]$$"
      ],
      "text/plain": [
       "⎡          1.0⋅(a⋅cos(ω⋅t) + f - γ⋅velocity - 6.28318530717959⋅cos(6.283185307\n",
       "⎢velocity, ───────────────────────────────────────────────────────────────────\n",
       "⎣                                                   m                         \n",
       "\n",
       "17959⋅position))⎤\n",
       "────────────────⎥\n",
       "                ⎦"
      ]
     },
     "metadata": {},
     "output_type": "display_data"
    },
    {
     "name": "stdout",
     "output_type": "stream",
     "text": [
      "\n",
      "\n",
      "free symbols:\n",
      "\n"
     ]
    },
    {
     "data": {
      "image/png": "[encoded data removed]",
      "text/latex": [
       "$$\\left [ \\left\\{velocity\\right\\}, \\quad \\left\\{a, f, \\gamma, m, \\omega, position, t, velocity\\right\\}\\right ]$$"
      ],
      "text/plain": [
       "[set([velocity]), set([a, f, γ, m, ω, position, t, velocity])]"
      ]
     },
     "metadata": {},
     "output_type": "display_data"
    },
    {
     "name": "stdout",
     "output_type": "stream",
     "text": [
      "\n",
      "\n",
      "equation with substituted [0]values:\n",
      "\n"
     ]
    },
    {
     "data": {
      "image/png": "[encoded data removed]",
      "text/latex": [
       "$$\\left [ velocity, \\quad - 10.0 velocity - 62.8318530717959 \\cos{\\left (6.28318530717959 position \\right )} + 85.5 \\cos{\\left (12.38 t \\right )} + 5.0\\right ]$$"
      ],
      "text/plain": [
       "[velocity, -10.0⋅velocity - 62.8318530717959⋅cos(6.28318530717959⋅position) + \n",
       "85.5⋅cos(12.38⋅t) + 5.0]"
      ]
     },
     "metadata": {},
     "output_type": "display_data"
    }
   ],
   "source": [
    "sde = SDE(\n",
    "    SDE_Param('m', 0.1),\n",
    "    SDE_Param('gamma', 1.0),\n",
    "    SDE_Param('a', 8.55),\n",
    "    SDE_Param('omega', 12.38),\n",
    "    SDE_Param('f', 0.5),\n",
    "    SDE_VarDependent('position', 0.0, 0),\n",
    "    SDE_VarDependent('velocity', 0.0, 1),\n",
    "    SDE_VarIndependent('t', 0.0,  2*np.pi/3000),\n",
    "    SDE_Function('U', lambda x: sympy.sin(2*np.pi*x))\n",
    ")\n",
    "rhs = [\n",
    "    velocity,\n",
    "    1.0 / m * (-gamma * velocity - sympy.diff(U(position), position) + a * sympy.cos(omega * t) + f)\n",
    "]\n",
    "settings = sde.get_default_settings()\n",
    "settings['simulation']['periods'] = 1000\n",
    "settings['simulation']['steps_per_period'] = 800\n",
    "pprint.pprint(settings)\n",
    "sde.solve(rhs, settings)\n",
    "\n",
    "######\n",
    "\n",
    "print('data:\\n', sde.data)\n",
    "\n",
    "init_printing()\n",
    "print('\\n\\nequation:\\n')\n",
    "display(sde.rhs)\n",
    "print('\\n\\nfree symbols:\\n')\n",
    "display(list(eq.free_symbols for eq in sde.rhs))\n",
    "print('\\n\\nequation with substituted [0]values:\\n')\n",
    "display(list(eq.subs(sde.get_0subs()) for eq in sde.rhs))\n",
    "# display(rhs.subs(Value.subs_uneval()))"
   ]
  },
  {
   "cell_type": "markdown",
   "metadata": {},
   "source": [
    "# notes"
   ]
  },
  {
   "cell_type": "code",
   "execution_count": null,
   "metadata": {},
   "outputs": [],
   "source": [
    "# generowanie liczb losowych\n",
    "\n",
    "import numpy as np\n",
    "import pycuda.autoinit\n",
    "from pycuda.compiler import SourceModule\n",
    "from pycuda import gpuarray\n",
    "\n",
    "code = \"\"\"\n",
    "    #include <curand_kernel.h>\n",
    "\n",
    "    const int nstates = %(NGENERATORS)s;\n",
    "    __device__ curandState_t* states[nstates];\n",
    "\n",
    "    __global__ void initkernel(int seed)\n",
    "    {\n",
    "        int tidx = threadIdx.x + blockIdx.x * blockDim.x;\n",
    "\n",
    "        if (tidx < nstates) {\n",
    "            curandState_t* s = new curandState_t;\n",
    "            if (s != 0) {\n",
    "                curand_init(seed, tidx, 0, s);\n",
    "            }\n",
    "\n",
    "            states[tidx] = s;\n",
    "        }\n",
    "    }\n",
    "\n",
    "    __global__ void randfillkernel(float *values, int N)\n",
    "    {\n",
    "        int tidx = threadIdx.x + blockIdx.x * blockDim.x;\n",
    "\n",
    "        if (tidx < nstates) {\n",
    "            curandState_t s = *states[tidx];\n",
    "            for(int i=tidx; i < N; i += blockDim.x * gridDim.x) {\n",
    "                values[i] = curand_uniform(&s);\n",
    "            }\n",
    "            *states[tidx] = s;\n",
    "        }\n",
    "    }\n",
    "\"\"\"\n",
    "\n",
    "N = 1024\n",
    "mod = SourceModule(code % { \"NGENERATORS\" : N }, no_extern_c=True)\n",
    "init_func = mod.get_function(\"_Z10initkerneli\")\n",
    "fill_func = mod.get_function(\"_Z14randfillkernelPfi\")\n",
    "\n",
    "seed = np.int32(123456789)\n",
    "nvalues = 10 * N\n",
    "init_func(seed, block=(N,1,1), grid=(1,1,1))\n",
    "gdata = gpuarray.zeros(nvalues, dtype=np.float32)\n",
    "print(gdata)\n",
    "fill_func(gdata, np.int32(nvalues), block=(N,1,1), grid=(1,1,1))\n",
    "print(gdata)"
   ]
  },
  {
   "cell_type": "code",
   "execution_count": null,
   "metadata": {},
   "outputs": [],
   "source": [
    "#plotly\n",
    "\n",
    "import numpy as np\n",
    "from plotly.offline import download_plotlyjs, init_notebook_mode, iplot\n",
    "import plotly.graph_objs as go\n",
    "\n",
    "init_notebook_mode(connected=True)\n",
    "\n",
    "m = 0.2\n",
    "g = 9.81\n",
    "steps = 100\n",
    "\n",
    "alpha = 89\n",
    "v_0 = 30\n",
    "f = np.array([0, -m*g]) # x, y\n",
    "pos = np.zeros((steps, 2))\n",
    "v = np.zeros((steps, 2))\n",
    "v[0, :] = v_0 * np.cos(np.radians(alpha)), v_0 * np.sin(np.radians(alpha))\n",
    "a = f/m\n",
    "t = 0\n",
    "dt = 0.1\n",
    "\n",
    "last_i = 0\n",
    "for i in range(steps-1):\n",
    "    last_i = i\n",
    "    v[i+1, :] = v[i, :] + a*dt\n",
    "    pos[i+1, :] = pos[i, :] + v[i]*dt\n",
    "    if pos[i+1, 1] < 0:\n",
    "        break\n",
    "\n",
    "poss = go.Scatter(\n",
    "    x=pos[:last_i,0],\n",
    "    y=pos[:last_i,1],\n",
    "    mode = 'markers'\n",
    ")\n",
    "\n",
    "vs = go.Scatter(\n",
    "    x=pos[:last_i,0],\n",
    "    y=np.abs(v[:last_i,1]),\n",
    "    mode = 'markers'\n",
    ")\n",
    "\n",
    "data = [poss, vs]\n",
    "\n",
    "fig = go.Figure(data=data)\n",
    "\n",
    "iplot(fig)"
   ]
  }
 ],
 "metadata": {
  "kernelspec": {
   "display_name": "Python 3",
   "language": "python",
   "name": "python3"
  },
  "language_info": {
   "codemirror_mode": {
    "name": "ipython",
    "version": 3
   },
   "file_extension": ".py",
   "mimetype": "text/x-python",
   "name": "python",
   "nbconvert_exporter": "python",
   "pygments_lexer": "ipython3",
   "version": "3.6.5"
  }
 },
 "nbformat": 4,
 "nbformat_minor": 2
}
