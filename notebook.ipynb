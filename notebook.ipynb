{
 "cells": [
  {
   "cell_type": "markdown",
   "metadata": {},
   "source": [
    "# todo"
   ]
  },
  {
   "cell_type": "markdown",
   "metadata": {},
   "source": [
    "! na razie jest *1 thread per parameters combination* -> co jeśli jest bardzo dużo wątków i summary array się nie mieści na GPU?\n",
    "\n",
    "! ~~na razie każde *parameters combination* jest wykonywane raz -> jak je powtarzać i sumować?~~ jak rozpoznać która wartość w summary array przynależy do konretnego *parameters combination*\n",
    "\n",
    "jeśli periods=='off' -> periods=1, steps_per_period=steps\n",
    "\n",
    "uśrednianie po warunkach początkowych\n",
    "\n",
    "! zapis wyników (cząstkowych!)\n",
    "\n",
    "kolejka wątków jeśli jest ich za dużo\n",
    "\n",
    "okresowe położenie\n",
    "\n",
    "walidacja i performance\n",
    "\n",
    "porównanie szumów kuby i curanda\n",
    "\n",
    "dodać [metodę Adamsa-Bashfortha / Adamsa-Moultona](https://en.wikiversity.org/wiki/Adams-Bashforth_and_Adams-Moulton_methods) jako lepszy zamiennik RK4\n",
    "\n",
    "domyślne wartości SDE_VarIndependent\n",
    "\n",
    "~~predictor/corrector i~~ zobaczyc jaka jest roznica\n",
    "\n",
    "~~! variance / std dev ([Welford Algorithm](https://gist.github.com/alexalemi/2151722))~~\n",
    "\n",
    "~~usunąć period_avg z outputu~~\n",
    "\n",
    "~~rozdzielanie parametrów~~\n",
    "\n",
    "~~uruchamianie na dowolnym gridzie~~\n",
    "\n",
    "~~zrobić wektor rhs~~\n",
    "\n",
    "~~porządek w plikach~~\n",
    "\n",
    "~~zamienic hardcodowane nazwy position, velocity na to co trzeba~~\n",
    "\n",
    "~~ścieżki~~\n",
    "\n",
    "~~sde.rhs = ... # setter~~\n",
    "\n",
    "~~czyszczenie przestrzeni nazw jako extra feature~~\n",
    "\n",
    "~~warningi jesli zmienne juz istnieja w przestrzeni globalnej~~"
   ]
  },
  {
   "cell_type": "markdown",
   "metadata": {},
   "source": [
    "# sdepy"
   ]
  },
  {
   "cell_type": "code",
   "execution_count": 1,
   "metadata": {},
   "outputs": [
    {
     "data": {
      "text/html": [
       "<style>.container { width:80% !important; }</style>"
      ],
      "text/plain": [
       "<IPython.core.display.HTML object>"
      ]
     },
     "metadata": {},
     "output_type": "display_data"
    }
   ],
   "source": [
    "from IPython.core.display import display, HTML\n",
    "display(HTML(\"<style>.container { width:80% !important; }</style>\"))"
   ]
  },
  {
   "cell_type": "code",
   "execution_count": 2,
   "metadata": {},
   "outputs": [
    {
     "name": "stdout",
     "output_type": "stream",
     "text": [
      "height has been deprecated.\n",
      "\n"
     ]
    }
   ],
   "source": [
    "# %%writefile sdepy.py\n",
    "import variables_namespace\n",
    "import pickle\n",
    "import collections\n",
    "from sympy.printing import ccode\n",
    "import os\n",
    "from sympy import cos, Symbol, symbols, Function, init_printing, Float\n",
    "import sympy\n",
    "import numpy as np\n",
    "import pandas as pd\n",
    "from mako.template import Template\n",
    "from mako.lookup import TemplateLookup\n",
    "import subprocess\n",
    "import six\n",
    "import pycuda.driver as cuda\n",
    "import pycuda.autoinit\n",
    "from pycuda.tools import clear_context_caches\n",
    "from pycuda.compiler import SourceModule\n",
    "import numpy as np\n",
    "from math import ceil\n",
    "import pycuda.gpuarray as gpuarray\n",
    "import logging\n",
    "from functools import reduce\n",
    "import pprint\n",
    "import copy\n",
    "import json\n",
    "import dill\n",
    "import pickle\n",
    "from tqdm import tqdm, trange\n",
    "\n",
    "pd.set_option('display.height', 1000)\n",
    "pd.set_option('display.max_rows', 500)\n",
    "pd.set_option('display.max_columns', 500)\n",
    "pd.set_option('display.width', 1200)\n",
    "\n",
    "class SDE_Param:\n",
    "    def __init__(self, name, value):\n",
    "        self.name = name\n",
    "        self.value = value\n",
    "        self.s = Symbol(self.name)\n",
    "    def fill_data(self, data):\n",
    "        new_data = {name: None for name in list(data)}\n",
    "        new_data['sympy_symbol'] = self.s\n",
    "        new_data['type'] = 'parameter'\n",
    "        if not isinstance(self.value, collections.Iterable):\n",
    "            self.value = [self.value]\n",
    "        new_data['values'] = np.array(self.value)\n",
    "        \n",
    "        data.loc[self.name] = new_data\n",
    "        \n",
    "class SDE_VarDependent:\n",
    "    def __init__(self, name, initial_value, derivative_order):\n",
    "        self.name = name\n",
    "        self.initial_value = initial_value\n",
    "        self.derivative_order = derivative_order\n",
    "        self.s = Symbol(self.name)\n",
    "    def fill_data(self, data):\n",
    "        new_data = {name: None for name in list(data)}\n",
    "        new_data['sympy_symbol'] = self.s\n",
    "        new_data['type'] = 'dependent variable'\n",
    "        new_data['values'] = self.initial_value\n",
    "        new_data['derivative_order'] = self.derivative_order\n",
    "        \n",
    "        data.loc[self.name] = new_data\n",
    "        \n",
    "class SDE_VarIndependent:\n",
    "    def __init__(self, name, initial_value, step):\n",
    "        self.name = name\n",
    "        self.initial_value = initial_value\n",
    "        self.step = step\n",
    "        self.s = Symbol(self.name)\n",
    "    def fill_data(self, data):\n",
    "        new_data = {name: None for name in list(data)}\n",
    "        new_data['sympy_symbol'] = self.s\n",
    "        new_data['type'] = 'independent variable'\n",
    "        new_data['values'] = self.initial_value\n",
    "        new_data['step'] = self.step\n",
    "        \n",
    "        data.loc[self.name] = new_data\n",
    "        \n",
    "class SDE_Function:\n",
    "    def __init__(self, name, sympy_function):\n",
    "        self.name = name\n",
    "        self.s = sympy_function\n",
    "    def fill_data(self, data):\n",
    "        new_data = {name: None for name in list(data)}\n",
    "        new_data['sympy_symbol'] = self.s\n",
    "        new_data['type'] = 'function'\n",
    "\n",
    "        data.loc[self.name] = new_data\n",
    "\n",
    "class SDE_Noise:\n",
    "    # https://docs.nvidia.com/cuda/curand/device-api-overview.html#distributions\n",
    "    def __init__(self, name, noise_type):\n",
    "        ''' noise : ['uniform', 'normal'] '''\n",
    "        self.name = name\n",
    "        self.s = Symbol(self.name)\n",
    "        self.noise_type = noise_type\n",
    "    def fill_data(self, data):\n",
    "        new_data = {name: None for name in list(data)}\n",
    "        new_data['sympy_symbol'] = self.s\n",
    "        new_data['type'] = 'noise'\n",
    "        new_data['values'] = {'noise type': self.noise_type}\n",
    "\n",
    "        data.loc[self.name] = new_data\n",
    "\n",
    "class bidict(dict):\n",
    "    def __init__(self, *args, **kwargs):\n",
    "        super(bidict, self).__init__(*args, **kwargs)\n",
    "        self.inverse = {}\n",
    "        for key, value in self.items():\n",
    "            self.inverse.setdefault(value,[]).append(key) \n",
    "    def __setitem__(self, key, value):\n",
    "        if key in self:\n",
    "            self.inverse[self[key]].remove(key) \n",
    "        super(bidict, self).__setitem__(key, value)\n",
    "        self.inverse.setdefault(value,[]).append(key)        \n",
    "    def __delitem__(self, key):\n",
    "        self.inverse.setdefault(self[key],[]).remove(key)\n",
    "        if self[key] in self.inverse and not self.inverse[self[key]]: \n",
    "            del self.inverse[self[key]]\n",
    "        super(bidict, self).__delitem__(key)\n",
    "\n",
    "class SDE:\n",
    "    def __init__(self, *values):\n",
    "        logging.getLogger().setLevel(logging.INFO)\n",
    "        \n",
    "        self._rhs = None\n",
    "        self.rhs_string = None\n",
    "        self.input_settings = None    # settings from user\n",
    "        self.settings = None          # preprocessed settings \n",
    "        self.lookup = bidict()        # maps name to data index in mako\n",
    "        self.columns = ['sympy_symbol', 'type', 'values', 'step', 'derivative_order']\n",
    "        self.data = pd.DataFrame(columns=self.columns, dtype='object')\n",
    "        self.callbacks = {}\n",
    "        \n",
    "        for value in values:\n",
    "            if hasattr(variables_namespace, value.name):\n",
    "                logging.warning('Value \\'{}\\' already defined, overwriting...'.format(value.name))\n",
    "            value.fill_data(self.data)\n",
    "            setattr(variables_namespace, value.name, value.s)\n",
    "#         globals_dict = globals()\n",
    "#         for value in values:\n",
    "#             if value.name in globals_dict.keys():\n",
    "#                 logging.warning('Value \\'{}\\' already defined, overwriting...'.format(value.name))\n",
    "#             value.fill_data(self.data)\n",
    "#             globals_dict[value.name] = value.s\n",
    "    @property\n",
    "    def rhs(self):\n",
    "        return self._rhs\n",
    "    @rhs.setter\n",
    "    def rhs(self, value):\n",
    "        self._rhs = value\n",
    "    def deglobalize(self):\n",
    "        globals_dict = globals()\n",
    "        for name in self.data.index.values:\n",
    "            del globals_dict[name]\n",
    "    def solve(self, settings):\n",
    "        self.input_settings = settings\n",
    "        self.settings = self.preprocess_settings(self.input_settings)\n",
    "        self.save_config()\n",
    "        \n",
    "        self.rhs_string = [self.get_c_code(rhs_item) for rhs_item in self._rhs]\n",
    "        logging.info('RHS: '+str(self.rhs_string))\n",
    "        if self.settings['gpu']['regenerate_cu']:\n",
    "            self.generate_cuda_code()\n",
    "        return self.run_cuda()\n",
    "    def get_c_code(self, rhs):\n",
    "        code = ccode(rhs.subs(self._get_subs())) \\\n",
    "            .replace('cos', 'cosf') \\\n",
    "            .replace('sin', 'sinf') \\\n",
    "            .replace('pow', 'powf')\n",
    "            \n",
    "        noise_replacements = {'uniform':'curand_uniform(curand_states[idx])',\n",
    "                              'normal' :'curand_normal(curand_states[idx])'}\n",
    "        for noise in self.row_iterator('type', 'noise'):\n",
    "            code = code.replace(noise.Index, noise_replacements[noise.values['noise type']])\n",
    "        \n",
    "        return code\n",
    "    def _get_subs(self): # FIXME\n",
    "        subs = {}\n",
    "        for row in self.row_iterator('type', 'parameter'):#self.data.loc[self.data['type'] == 'parameter'].iterrows():\n",
    "            if len(row.values) == 1:\n",
    "                subs[row.Index] = row.values[0]\n",
    "        return subs\n",
    "    def get_default_settings(self):\n",
    "        return {\n",
    "            'constants':{\n",
    "                'steps_per_kernel_call' : 400,\n",
    "                'steps_per_period' : 10,\n",
    "                'periods' : 100,                  # number of periods in the simulation\n",
    "                'afterstep_every' : 1000,\n",
    "                'transients': 0,                # how many steps to omit at the path's start: (0-1) is a percentage, [1-oo] is a number of steps\n",
    "            },\n",
    "            'simulation':{\n",
    "                'precision': 'float',          # ['float', 'double'] TODO: czy to ma sens? poprawić żeby było wszędzie\n",
    "                'number_of_threads' : None,\n",
    "                'block_size': None,\n",
    "                'grid_size': None,\n",
    "                'integration_method': 'rk4',    # ['euler', 'rk4']\n",
    "                'paths': 100,                     # number of paths to sample\n",
    "                'fit_to_warp_size': False,       # bump number of threads per block to warp multiple\n",
    "#                 'samples':100,                # sample the position every N steps\n",
    "#                 'transients_number':200,      # number of periods to ignore\n",
    "                'rng_seed': np.int32(123456789),\n",
    "#                 'precision':'single',         # precision of the floating-point numbers (single, double)\n",
    "#                 'rng_generator':'kiss32', \n",
    "#                 'deterministic':False,        # do not generate any noises\n",
    "            },\n",
    "            'output':{\n",
    "#                 'mode':'summary',  # output mode (summary, path)\n",
    "#                 'format':'text',   # output file format (text, npy)\n",
    "                 'folder_path': './out/',\n",
    "                 'config_filename': 'config.pkl',\n",
    "                 'kernel_filename': 'kernel.cu',\n",
    "            },\n",
    "            'gpu':{\n",
    "                'regenerate_cu': True,# generate cuda kernel code (set to False if u want to tweak & run the last cu code)\n",
    "                'device': 1,          # device number\n",
    "                'cuda': True,\n",
    "                'warp_size': 32,\n",
    "                'max_threads_per_block': 1024,\n",
    "                'max_blocks_per_grid': 2**31-1,\n",
    "            },\n",
    "            'debug':{\n",
    "                'enabled':False,\n",
    "            }\n",
    "        }\n",
    "    def preprocess_settings(self, settings):\n",
    "        if settings.get('debug', {}).get('enabled', False):\n",
    "            logging.getLogger().setLevel(logging.DEBUG)\n",
    "        # self.deglobalize()\n",
    "        \n",
    "        self.device_handle = cuda.Device(settings['gpu']['device'])\n",
    "        self.gpu_context = self.device_handle.make_context()\n",
    "        \n",
    "        s = copy.deepcopy(settings)\n",
    "        \n",
    "        if 0 < s['constants']['transients'] < 1:\n",
    "            s['constants']['transients'] *= s['constants']['periods'] * s['constants']['steps_per_period']\n",
    "        \n",
    "        block_size, grid_size, extra_threads = self._calculate_block_grid_size()\n",
    "        msg = 'block: {}; grid: {}'.format(block_size, grid_size)\n",
    "        if extra_threads != 0:\n",
    "            msg += '; {} extra threads from warp optimization.'.format(extra_threads)\n",
    "        logging.info(msg)\n",
    "        s['simulation']['block_size'] = block_size\n",
    "        s['simulation']['grid_size'] = grid_size\n",
    "        s['simulation']['extra_threads'] = extra_threads\n",
    "        s['simulation']['number_of_threads'] = reduce(lambda x,y : x*y, block_size + grid_size)\n",
    "        return s\n",
    "    def save_config(self):\n",
    "        dump_path = self.settings['output']['folder_path'] + self.settings['output']['config_filename']\n",
    "        with open(dump_path, 'wb') as f:\n",
    "            device, context = self.device_handle, self.gpu_context\n",
    "            self.device_handle = self.gpu_context = None\n",
    "            dill.dump(self, f)\n",
    "            self.device_handle, self.gpu_context = device, context\n",
    "    @staticmethod\n",
    "    def load_config(config_path) -> 'SDE':\n",
    "        with open(config_path, 'rb') as f:\n",
    "            return dill.load(f)\n",
    "    def show_info(self):\n",
    "        print('data:\\n', self.data)\n",
    "        print('\\n\\nsettings:\\n')\n",
    "        pprint.pprint(self.settings)\n",
    "        init_printing()\n",
    "        print('\\n\\nequation:\\n')\n",
    "        display(self.rhs)\n",
    "        print('\\n\\nfree symbols:\\n')\n",
    "        display(list(eq.free_symbols for eq in self.rhs))\n",
    "        print('\\n\\nequation with substituted values:\\n')\n",
    "        display(list(eq.subs(self._get_subs()) for eq in self.rhs))\n",
    "        print('\\n\\nfree symbols in equation with substituted values:\\n')\n",
    "        display(list(eq.subs(self._get_subs()).free_symbols for eq in self.rhs))\n",
    "        # display(rhs.subs(Value.subs_uneval()))\n",
    "    def _calculate_block_grid_size(self):\n",
    "        ######## calculate block & grid size\n",
    "        # CUDA Occupancy Calculator\n",
    "        # https://lxkarthi.github.io/cuda-calculator/\n",
    "        s = self.input_settings\n",
    "        \n",
    "        block_size = s['simulation'].get('block_size', None)\n",
    "        grid_size = s['simulation'].get('grid_size', None)\n",
    "        extra_threads = 0\n",
    "        \n",
    "        params_combinations = reduce(lambda x, y: x*y, [len(row.values) for row in self.row_iterator('type', 'parameter')], 1)\n",
    "        threads_needed = params_combinations\n",
    "        \n",
    "        if s['simulation']['block_size'] is not None and s['simulation']['grid_size'] is not None:\n",
    "            if s['simulation']['fit_to_warp_size']:\n",
    "                logging.warning('Both block and grid size specified - ommiting \\'fit_to_warp_size\\' command.')\n",
    "        elif s['simulation']['block_size'] is None and s['simulation']['grid_size'] is None:\n",
    "            if threads_needed <= s['gpu']['max_threads_per_block']:\n",
    "                if s['simulation']['fit_to_warp_size']:\n",
    "                    block_size = (threads_needed + (s['gpu']['warp_size'] - threads_needed%s['gpu']['warp_size'])%s['gpu']['warp_size'], 1, 1)\n",
    "                    grid_size = (1, 1, 1)\n",
    "                    extra_threads = block_size[0] - threads_needed\n",
    "                else:\n",
    "                    block_size = (threads_needed, 1, 1)\n",
    "                    grid_size = (1, 1, 1)\n",
    "            else:\n",
    "                if threads_needed < 512 * s['gpu']['max_blocks_per_grid']:\n",
    "                    block_size = (512, 1, 1) # TODO: na pewno tyle? https://stackoverflow.com/a/9986748/1185254\n",
    "                else:\n",
    "                    block_size = (1024, 1, 1)\n",
    "                blocks_needed = ceil(threads_needed / block_size[0])\n",
    "                grid_size = (blocks_needed, 1, 1)\n",
    "                extra_threads = blocks_needed * block_size[0] - threads_needed\n",
    "        elif s['simulation']['grid_size'] is not None:\n",
    "            if not isinstance(s['simulation']['grid_size'], collections.Iterable):\n",
    "                grid_threads = int(s['simulation']['grid_size'])\n",
    "                grid_size = (grid_threads, 1, 1)\n",
    "            else:\n",
    "                grid_threads = reduce(lambda x, y: x*y, s['simulation']['grid_size'])\n",
    "                grid_size = s['simulation']['grid_size']\n",
    "            block_threads = ceil(threads_needed / grid_threads)\n",
    "            if s['simulation']['fit_to_warp_size']:\n",
    "                extra_threads = block_threads\n",
    "                block_threads = block_threads + (s['gpu']['warp_size'] - block_threads%s['gpu']['warp_size'])%s['gpu']['warp_size']\n",
    "                extra_threads = block_threads - extra_threads\n",
    "            block_size = (block_threads, 1, 1)\n",
    "        elif s['simulation']['block_size'] is not None:\n",
    "            if not isinstance(s['simulation']['block_size'], collections.Iterable):\n",
    "                block_threads = int(s['simulation']['block_size'])\n",
    "                block_size = (block_threads, 1, 1)\n",
    "            else:\n",
    "                block_threads = reduce(lambda x, y: x*y, s['simulation']['block_size'])\n",
    "                block_size = s['simulation']['block_size']\n",
    "            if s['simulation']['fit_to_warp_size']:\n",
    "                extra_threads = block_threads\n",
    "                block_threads = block_threads + (s['gpu']['warp_size'] - block_threads%s['gpu']['warp_size'])%s['gpu']['warp_size']\n",
    "                extra_threads = block_threads - extra_threads\n",
    "                block_size = (block_threads, 1, 1)\n",
    "            grid_size = (ceil(threads_needed / block_threads), 1, 1)\n",
    "        return block_size, grid_size, extra_threads\n",
    "    def generate_cuda_code(self):\n",
    "        try:\n",
    "            home_dir = os.path.dirname(__file__)  # imported module\n",
    "        except NameError:\n",
    "            home_dir = os.path.abspath('')  # run as notebook\n",
    "        lookup = TemplateLookup(directories=[home_dir+'/templates'], output_encoding='utf-8', encoding_errors='replace')\n",
    "        sde_template = lookup.get_template('main.mako')\n",
    "        kernel_source = sde_template.render(sde=self)\n",
    "        kernel_path = self.settings['output']['folder_path'] + self.settings['output']['kernel_filename']\n",
    "\n",
    "        with open(kernel_path, 'wb') as file:\n",
    "            file.write(kernel_source)\n",
    "        command = 'clang-format -style=google -i {}'.format(kernel_path).split()\n",
    "        command = 'indent -linux -sob -l120 {}'.format(kernel_path).split()\n",
    "        print(subprocess.check_output(command).decode('utf-8'))\n",
    "    def row_iterator(self, col_name, values):\n",
    "        if not (isinstance(values, collections.Iterable) and not isinstance(values, six.string_types)):\n",
    "            values = [values]\n",
    "        return self.data.loc[self.data[col_name].isin(values)][::-1].itertuples()\n",
    "    def register_callback(self, callback, when):\n",
    "        '''\n",
    "        :param callback: function(**local_variables)\n",
    "        :param when: callback moments supported: pre_init, post_init, pre_path, post_path, pre_kernel_call, post_kernel_call\n",
    "        '''\n",
    "        if when not in self.callbacks:\n",
    "            self.callbacks[when] = []\n",
    "        self.callbacks[when].append(callback)\n",
    "    def _execute_callbacks(self, when, locals_):\n",
    "        locals_['self_'] = locals_.pop('self')\n",
    "        for callback in self.callbacks.get(when, []):\n",
    "            callback(**locals_)\n",
    "    def get_values(self):\n",
    "        '''\n",
    "        Convenience function to get data from GPU (copies device -> host)\n",
    "        '''\n",
    "        self.current_mod.get_function(\"get_values\")(self.output_gpu, block=self.settings['simulation']['block_size'], grid=self.settings['simulation']['grid_size'])\n",
    "        return self.output_gpu.get()\n",
    "    def run_cuda(self):\n",
    "        s = self.settings\n",
    "        blocks, grids, periods, spp, spkc, paths = s['simulation']['block_size'], s['simulation']['grid_size'], s['constants']['periods'], s['constants']['steps_per_period'], s['constants']['steps_per_kernel_call'], s['simulation']['paths']\n",
    "        number_of_dependent_vars = len(list(self.row_iterator('type', 'dependent variable')))\n",
    "        kernel_calls = ceil(periods * spp / spkc)\n",
    "        kernel_path = self.settings['output']['folder_path'] + self.settings['output']['kernel_filename']\n",
    "        self.current_mod = mod = SourceModule(open(kernel_path, 'r').read(), no_extern_c=True)\n",
    "\n",
    "        ######## compute capabilities\n",
    "        # https://docs.nvidia.com/cuda/cuda-c-programming-guide/index.html#compute-capabilities\n",
    "        # Tesla K40: 3.5\n",
    "        ######## indexing cheatsheet\n",
    "        # https://cs.calvin.edu/courses/cs/374/CUDA/CUDA-Thread-Indexing-Cheatsheet.pdf\n",
    "        ######## randoms\n",
    "        # https://stackoverflow.com/questions/46169633/how-to-generate-random-number-inside-pycuda-kernel\n",
    "        ######## mean / std dev / Welford's algorithm\n",
    "        # https://stackoverflow.com/a/1934266/1185254\n",
    "        # https://www.johndcook.com/blog/standard_deviation/\n",
    "        ######## runs    \n",
    "        # https://en.wikipedia.org/wiki/Name_mangling#How_different_compilers_mangle_the_same_functions\n",
    "        \n",
    "        ######## initialization ########\n",
    "        self._execute_callbacks('pre_init', locals())\n",
    "        \n",
    "        print('Initializing...')\n",
    "        init_func = mod.get_function(\"_Z10initkerneli\")\n",
    "        seed = s['simulation']['rng_seed']\n",
    "        init_func(seed, block=blocks, grid=grids)\n",
    "        self.gpu_context.synchronize()\n",
    "\n",
    "        print('threads', s['simulation']['number_of_threads'])\n",
    "        print('kernel_calls:', kernel_calls)\n",
    "        output = np.zeros((s['simulation']['number_of_threads'],number_of_dependent_vars*3), dtype=np.float32)\n",
    "        self.output_gpu = output_gpu = gpuarray.zeros(output.shape, dtype=np.float32)\n",
    "\n",
    "        self._execute_callbacks('post_init', locals())\n",
    "\n",
    "        ######## simulation ########\n",
    "        for path in trange(paths, desc='Path'):\n",
    "            self._execute_callbacks('pre_path', locals())\n",
    "            \n",
    "            mod.get_function(\"prepare_simulation\")(block=blocks, grid=grids) # _Z18prepare_simulationPf\n",
    "            for i in range(kernel_calls):\n",
    "                self._execute_callbacks('pre_kernel_call', locals())\n",
    "                mod.get_function(\"continue_simulation\")(block=blocks, grid=grids) # _Z19continue_simulationv\n",
    "                self._execute_callbacks('post_kernel_call', locals())\n",
    "                \n",
    "            mod.get_function(\"get_values\")(output_gpu, block=blocks, grid=grids) # _Z14get_valuesv\n",
    "            output = output + (output_gpu.get() - output) / (path + 1)\n",
    "            \n",
    "            self._execute_callbacks('post_path', locals())\n",
    "        \n",
    "        ######## cleanup ########\n",
    "        pprint.pprint(output.shape)\n",
    "        pprint.pprint(output[:6,:6])\n",
    "\n",
    "        clear_context_caches()\n",
    "\n",
    "        print(\"\"\"\n",
    "        0: v\n",
    "        1: mean_v\n",
    "        2: std_dev_v\n",
    "        3: x\n",
    "        4: mean_x\n",
    "        5: std_dev_x\n",
    "        \"\"\")\n",
    "        \n",
    "        return output"
   ]
  },
  {
   "cell_type": "markdown",
   "metadata": {},
   "source": [
    "# user part:"
   ]
  },
  {
   "cell_type": "code",
   "execution_count": 2,
   "metadata": {
    "scrolled": false
   },
   "outputs": [
    {
     "ename": "NameError",
     "evalue": "name 'SDE' is not defined",
     "output_type": "error",
     "traceback": [
      "\u001b[0;31m---------------------------------------------------------------------------\u001b[0m",
      "\u001b[0;31mNameError\u001b[0m                                 Traceback (most recent call last)",
      "\u001b[0;32m<ipython-input-2-910d7d4541f6>\u001b[0m in \u001b[0;36m<module>\u001b[0;34m()\u001b[0m\n\u001b[0;32m----> 1\u001b[0;31m \u001b[0mget_ipython\u001b[0m\u001b[0;34m(\u001b[0m\u001b[0;34m)\u001b[0m\u001b[0;34m.\u001b[0m\u001b[0mrun_cell_magic\u001b[0m\u001b[0;34m(\u001b[0m\u001b[0;34m'time'\u001b[0m\u001b[0;34m,\u001b[0m \u001b[0;34m''\u001b[0m\u001b[0;34m,\u001b[0m \u001b[0;34m\"%matplotlib inline\\nimport matplotlib.pyplot as plt\\nimport math\\n\\nsde = SDE(\\n    SDE_Param('m', np.linspace(-1,1,3)),\\n    SDE_Param('gamma', np.linspace(-1,1,3)),\\n    SDE_Param('a', np.linspace(-1,1,3)),\\n    SDE_Param('omega', 12.38),\\n    SDE_Param('f', 0.5),\\n    SDE_Param('D', 0),\\n    SDE_Noise('xi', 'normal'),\\n    SDE_VarDependent('x', 0.0, 0),\\n    SDE_VarDependent('v', 0.0, 1),\\n    SDE_VarIndependent('t', 0.0,  2*math.pi/(12.38*10)),\\n    SDE_Function('U', lambda x: sympy.sin(2*math.pi*x))\\n)\\nsde.rhs = [\\n    v,\\n    1.0 / m * (-gamma * v - sympy.diff(U(x), x) + a * sympy.cos(omega * t) + f + D * xi)\\n]\\nsettings = sde.get_default_settings()\\n# settings['gpu']['regenerate_cu'] = False\\npprint.pprint(settings)\\nout = sde.solve(settings)\"\u001b[0m\u001b[0;34m)\u001b[0m\u001b[0;34m\u001b[0m\u001b[0;34m\u001b[0m\u001b[0m\n\u001b[0m",
      "\u001b[0;32m/opt/conda/lib/python3.6/site-packages/IPython/core/interactiveshell.py\u001b[0m in \u001b[0;36mrun_cell_magic\u001b[0;34m(self, magic_name, line, cell)\u001b[0m\n\u001b[1;32m   2113\u001b[0m             \u001b[0mmagic_arg_s\u001b[0m \u001b[0;34m=\u001b[0m \u001b[0mself\u001b[0m\u001b[0;34m.\u001b[0m\u001b[0mvar_expand\u001b[0m\u001b[0;34m(\u001b[0m\u001b[0mline\u001b[0m\u001b[0;34m,\u001b[0m \u001b[0mstack_depth\u001b[0m\u001b[0;34m)\u001b[0m\u001b[0;34m\u001b[0m\u001b[0;34m\u001b[0m\u001b[0m\n\u001b[1;32m   2114\u001b[0m             \u001b[0;32mwith\u001b[0m \u001b[0mself\u001b[0m\u001b[0;34m.\u001b[0m\u001b[0mbuiltin_trap\u001b[0m\u001b[0;34m:\u001b[0m\u001b[0;34m\u001b[0m\u001b[0;34m\u001b[0m\u001b[0m\n\u001b[0;32m-> 2115\u001b[0;31m                 \u001b[0mresult\u001b[0m \u001b[0;34m=\u001b[0m \u001b[0mfn\u001b[0m\u001b[0;34m(\u001b[0m\u001b[0mmagic_arg_s\u001b[0m\u001b[0;34m,\u001b[0m \u001b[0mcell\u001b[0m\u001b[0;34m)\u001b[0m\u001b[0;34m\u001b[0m\u001b[0;34m\u001b[0m\u001b[0m\n\u001b[0m\u001b[1;32m   2116\u001b[0m             \u001b[0;32mreturn\u001b[0m \u001b[0mresult\u001b[0m\u001b[0;34m\u001b[0m\u001b[0;34m\u001b[0m\u001b[0m\n\u001b[1;32m   2117\u001b[0m \u001b[0;34m\u001b[0m\u001b[0m\n",
      "\u001b[0;32m<decorator-gen-59>\u001b[0m in \u001b[0;36mtime\u001b[0;34m(self, line, cell, local_ns)\u001b[0m\n",
      "\u001b[0;32m/opt/conda/lib/python3.6/site-packages/IPython/core/magic.py\u001b[0m in \u001b[0;36m<lambda>\u001b[0;34m(f, *a, **k)\u001b[0m\n\u001b[1;32m    186\u001b[0m     \u001b[0;31m# but it's overkill for just that one bit of state.\u001b[0m\u001b[0;34m\u001b[0m\u001b[0;34m\u001b[0m\u001b[0;34m\u001b[0m\u001b[0m\n\u001b[1;32m    187\u001b[0m     \u001b[0;32mdef\u001b[0m \u001b[0mmagic_deco\u001b[0m\u001b[0;34m(\u001b[0m\u001b[0marg\u001b[0m\u001b[0;34m)\u001b[0m\u001b[0;34m:\u001b[0m\u001b[0;34m\u001b[0m\u001b[0;34m\u001b[0m\u001b[0m\n\u001b[0;32m--> 188\u001b[0;31m         \u001b[0mcall\u001b[0m \u001b[0;34m=\u001b[0m \u001b[0;32mlambda\u001b[0m \u001b[0mf\u001b[0m\u001b[0;34m,\u001b[0m \u001b[0;34m*\u001b[0m\u001b[0ma\u001b[0m\u001b[0;34m,\u001b[0m \u001b[0;34m**\u001b[0m\u001b[0mk\u001b[0m\u001b[0;34m:\u001b[0m \u001b[0mf\u001b[0m\u001b[0;34m(\u001b[0m\u001b[0;34m*\u001b[0m\u001b[0ma\u001b[0m\u001b[0;34m,\u001b[0m \u001b[0;34m**\u001b[0m\u001b[0mk\u001b[0m\u001b[0;34m)\u001b[0m\u001b[0;34m\u001b[0m\u001b[0;34m\u001b[0m\u001b[0m\n\u001b[0m\u001b[1;32m    189\u001b[0m \u001b[0;34m\u001b[0m\u001b[0m\n\u001b[1;32m    190\u001b[0m         \u001b[0;32mif\u001b[0m \u001b[0mcallable\u001b[0m\u001b[0;34m(\u001b[0m\u001b[0marg\u001b[0m\u001b[0;34m)\u001b[0m\u001b[0;34m:\u001b[0m\u001b[0;34m\u001b[0m\u001b[0;34m\u001b[0m\u001b[0m\n",
      "\u001b[0;32m/opt/conda/lib/python3.6/site-packages/IPython/core/magics/execution.py\u001b[0m in \u001b[0;36mtime\u001b[0;34m(self, line, cell, local_ns)\u001b[0m\n\u001b[1;32m   1183\u001b[0m         \u001b[0;32melse\u001b[0m\u001b[0;34m:\u001b[0m\u001b[0;34m\u001b[0m\u001b[0;34m\u001b[0m\u001b[0m\n\u001b[1;32m   1184\u001b[0m             \u001b[0mst\u001b[0m \u001b[0;34m=\u001b[0m \u001b[0mclock2\u001b[0m\u001b[0;34m(\u001b[0m\u001b[0;34m)\u001b[0m\u001b[0;34m\u001b[0m\u001b[0;34m\u001b[0m\u001b[0m\n\u001b[0;32m-> 1185\u001b[0;31m             \u001b[0mexec\u001b[0m\u001b[0;34m(\u001b[0m\u001b[0mcode\u001b[0m\u001b[0;34m,\u001b[0m \u001b[0mglob\u001b[0m\u001b[0;34m,\u001b[0m \u001b[0mlocal_ns\u001b[0m\u001b[0;34m)\u001b[0m\u001b[0;34m\u001b[0m\u001b[0;34m\u001b[0m\u001b[0m\n\u001b[0m\u001b[1;32m   1186\u001b[0m             \u001b[0mend\u001b[0m \u001b[0;34m=\u001b[0m \u001b[0mclock2\u001b[0m\u001b[0;34m(\u001b[0m\u001b[0;34m)\u001b[0m\u001b[0;34m\u001b[0m\u001b[0;34m\u001b[0m\u001b[0m\n\u001b[1;32m   1187\u001b[0m             \u001b[0mout\u001b[0m \u001b[0;34m=\u001b[0m \u001b[0;32mNone\u001b[0m\u001b[0;34m\u001b[0m\u001b[0;34m\u001b[0m\u001b[0m\n",
      "\u001b[0;32m<timed exec>\u001b[0m in \u001b[0;36m<module>\u001b[0;34m()\u001b[0m\n",
      "\u001b[0;31mNameError\u001b[0m: name 'SDE' is not defined"
     ]
    }
   ],
   "source": [
    "%%time\n",
    "%matplotlib inline\n",
    "import matplotlib.pyplot as plt\n",
    "import math\n",
    "\n",
    "sde = SDE(\n",
    "    SDE_Param('m', np.linspace(-1,1,3)),\n",
    "    SDE_Param('gamma', np.linspace(-1,1,3)),\n",
    "    SDE_Param('a', np.linspace(-1,1,3)),\n",
    "    SDE_Param('omega', 12.38),\n",
    "    SDE_Param('f', 0.5),\n",
    "    SDE_Param('D', 0),\n",
    "    SDE_Noise('xi', 'normal'),\n",
    "    SDE_VarDependent('x', 0.0, 0),\n",
    "    SDE_VarDependent('v', 0.0, 1),\n",
    "    SDE_VarIndependent('t', 0.0,  2*math.pi/(12.38*10)),\n",
    "    SDE_Function('U', lambda x: sympy.sin(2*math.pi*x))\n",
    ")\n",
    "sde.rhs = [\n",
    "    v,\n",
    "    1.0 / m * (-gamma * v - sympy.diff(U(x), x) + a * sympy.cos(omega * t) + f + D * xi)\n",
    "]\n",
    "settings = sde.get_default_settings()\n",
    "# settings['gpu']['regenerate_cu'] = False\n",
    "pprint.pprint(settings)\n",
    "out = sde.solve(settings)"
   ]
  },
  {
   "cell_type": "code",
   "execution_count": 16,
   "metadata": {
    "scrolled": true
   },
   "outputs": [
    {
     "data": {
      "image/png": "[encoded data removed]",
      "text/plain": [
       "<Figure size 1440x1080 with 1 Axes>"
      ]
     },
     "metadata": {},
     "output_type": "display_data"
    }
   ],
   "source": [
    "plt.figure(figsize=(20,15))\n",
    "plt.semilogx(np.logspace(-2,0,400), x0, color='red')\n",
    "plt.semilogx(np.logspace(-2,0,400), x1, color='green')\n",
    "plt.semilogx(np.logspace(-2,0,400), np.squeeze(out[:,1,:]), color='blue')\n",
    "plt.grid()"
   ]
  },
  {
   "cell_type": "code",
   "execution_count": 60,
   "metadata": {
    "scrolled": true
   },
   "outputs": [
    {
     "name": "stderr",
     "output_type": "stream",
     "text": [
      "DEBUG:matplotlib.backends:backend module://ipykernel.pylab.backend_inline version unknown\n"
     ]
    },
    {
     "data": {
      "image/png": "[encoded data removed]",
      "text/plain": [
       "<Figure size 576x432 with 1 Axes>"
      ]
     },
     "metadata": {},
     "output_type": "display_data"
    }
   ],
   "source": [
    "%matplotlib inline\n",
    "import matplotlib.pyplot as plt\n",
    "plt.figure(figsize=(8,6))\n",
    "plt.plot(np.linspace(0.01*2*math.pi,0.15*2*math.pi,400), np.squeeze(out[:,1,:]), color='blue')\n",
    "plt.grid()"
   ]
  },
  {
   "cell_type": "code",
   "execution_count": 44,
   "metadata": {
    "scrolled": true
   },
   "outputs": [
    {
     "name": "stderr",
     "output_type": "stream",
     "text": [
      "DEBUG:matplotlib.backends:backend module://ipykernel.pylab.backend_inline version unknown\n"
     ]
    },
    {
     "data": {
      "image/png": "[encoded data removed]",
      "text/plain": [
       "<Figure size 576x432 with 1 Axes>"
      ]
     },
     "metadata": {},
     "output_type": "display_data"
    }
   ],
   "source": [
    "%matplotlib inline\n",
    "import matplotlib.pyplot as plt\n",
    "plt.figure(figsize=(8,6))\n",
    "plt.semilogx(np.logspace(-2,0,4096), np.squeeze(out[:,1,:]), color='blue')\n",
    "plt.grid()"
   ]
  },
  {
   "cell_type": "code",
   "execution_count": 54,
   "metadata": {
    "scrolled": true
   },
   "outputs": [
    {
     "name": "stderr",
     "output_type": "stream",
     "text": [
      "DEBUG:matplotlib.backends:backend module://ipykernel.pylab.backend_inline version unknown\n"
     ]
    },
    {
     "data": {
      "image/png": "[encoded data removed]",
      "text/plain": [
       "<Figure size 576x432 with 1 Axes>"
      ]
     },
     "metadata": {},
     "output_type": "display_data"
    }
   ],
   "source": [
    "%matplotlib inline\n",
    "import matplotlib.pyplot as plt\n",
    "plt.figure(figsize=(8,6))\n",
    "plt.semilogx(np.logspace(-2,0,400), np.squeeze(out[:,1,:]), color='blue')\n",
    "plt.grid()"
   ]
  },
  {
   "cell_type": "code",
   "execution_count": 50,
   "metadata": {
    "scrolled": true
   },
   "outputs": [
    {
     "name": "stderr",
     "output_type": "stream",
     "text": [
      "DEBUG:matplotlib.backends:backend module://ipykernel.pylab.backend_inline version unknown\n"
     ]
    },
    {
     "data": {
      "image/png": "[encoded data removed]",
      "text/plain": [
       "<Figure size 576x432 with 1 Axes>"
      ]
     },
     "metadata": {},
     "output_type": "display_data"
    }
   ],
   "source": [
    "%matplotlib inline\n",
    "import matplotlib.pyplot as plt\n",
    "plt.figure(figsize=(8,6))\n",
    "plt.plot(np.linspace(0,1,4096), np.squeeze(out[:,1,:]), color='blue')\n",
    "plt.grid()"
   ]
  },
  {
   "cell_type": "markdown",
   "metadata": {},
   "source": [
    "# testy"
   ]
  },
  {
   "cell_type": "markdown",
   "metadata": {},
   "source": [
    "### papers"
   ]
  },
  {
   "cell_type": "code",
   "execution_count": 22,
   "metadata": {
    "scrolled": true
   },
   "outputs": [
    {
     "name": "stderr",
     "output_type": "stream",
     "text": [
      "DEBUG:matplotlib.backends:backend module://ipykernel.pylab.backend_inline version unknown\n",
      "INFO:root:block: (400, 1, 1); grid: (1, 1, 1)\n",
      "INFO:root:RHS: ['v', '1.0*(-1.0*v + 8.55*cosf(12.38*t) - 6.28318530717959*cosf(6.28318530717959*x) + 0.5)/m']\n"
     ]
    },
    {
     "name": "stdout",
     "output_type": "stream",
     "text": [
      "\n",
      "400\n",
      "kernel_calls: 1000\n",
      "(400, 6, 1)\n",
      "array([[[ 5.2693586e+00],\n",
      "        [ 1.9880627e+00],\n",
      "        [ 1.1123271e+07],\n",
      "        [ 1.0086841e+03],\n",
      "        [ 5.0508597e+02],\n",
      "        [ 8.4219240e+10]],\n",
      "\n",
      "       [[ 5.2873187e+00],\n",
      "        [ 1.9879153e+00],\n",
      "        [ 1.1131723e+07],\n",
      "        [ 1.0086835e+03],\n",
      "        [ 5.0508530e+02],\n",
      "        [ 8.4219363e+10]],\n",
      "\n",
      "       [[ 5.3241544e+00],\n",
      "        [ 1.9877722e+00],\n",
      "        [ 1.1144547e+07],\n",
      "        [ 1.0086823e+03],\n",
      "        [ 5.0508481e+02],\n",
      "        [ 8.4219511e+10]],\n",
      "\n",
      "       ...,\n",
      "\n",
      "       [[-1.0119169e+00],\n",
      "        [-5.2838045e-04],\n",
      "        [ 4.3364028e+05],\n",
      "        [-2.6791665e-01],\n",
      "        [-2.3652552e-01],\n",
      "        [ 2.8458594e+03]],\n",
      "\n",
      "       [[-9.9773961e-01],\n",
      "        [-5.2690535e-04],\n",
      "        [ 4.2111191e+05],\n",
      "        [-2.6715741e-01],\n",
      "        [-2.3654526e-01],\n",
      "        [ 2.7648167e+03]],\n",
      "\n",
      "       [[-9.8375607e-01],\n",
      "        [-5.2541745e-04],\n",
      "        [ 4.0874716e+05],\n",
      "        [-2.6641524e-01],\n",
      "        [-2.3656622e-01],\n",
      "        [ 2.6879990e+03]]], dtype=float32)\n",
      "\n",
      "        0: v\n",
      "        1: mean_v\n",
      "        2: std_dev_v\n",
      "        3: x\n",
      "        4: mean_x\n",
      "        5: std_dev_x\n",
      "        \n"
     ]
    },
    {
     "data": {
      "image/png": "[encoded data removed]",
      "text/plain": [
       "<Figure size 576x432 with 1 Axes>"
      ]
     },
     "metadata": {},
     "output_type": "display_data"
    }
   ],
   "source": [
    "%matplotlib inline\n",
    "sde = SDE.load_config('./out/config_slapik_2018_fig8a.pkl')\n",
    "sde.solve(sde.settings)\n",
    "plt.figure(figsize=(8,6))\n",
    "plt.semilogx(np.logspace(-2,0,400), np.squeeze(out[:,1,:]), color='blue')\n",
    "plt.grid()"
   ]
  },
  {
   "cell_type": "code",
   "execution_count": 3,
   "metadata": {
    "scrolled": false
   },
   "outputs": [
    {
     "name": "stdout",
     "output_type": "stream",
     "text": [
      "{'constants': {'afterstep_every': 1000,\n",
      "               'periods': 100,\n",
      "               'steps_per_kernel_call': 1,\n",
      "               'steps_per_period': 200,\n",
      "               'transients': 0.1},\n",
      " 'debug': {'enabled': False},\n",
      " 'gpu': {'cuda': True,\n",
      "         'device': 1,\n",
      "         'max_blocks_per_grid': 2147483647,\n",
      "         'max_threads_per_block': 1024,\n",
      "         'regenerate_cu': True,\n",
      "         'warp_size': 32},\n",
      " 'output': {'config_filename': 'config.pkl',\n",
      "            'folder_path': './out/',\n",
      "            'kernel_filename': 'kernel.cu'},\n",
      " 'simulation': {'block_size': None,\n",
      "                'fit_to_warp_size': False,\n",
      "                'grid_size': None,\n",
      "                'integration_method': 'rk4',\n",
      "                'number_of_threads': None,\n",
      "                'paths': 1,\n",
      "                'precision': 'float',\n",
      "                'rng_seed': 123456789}}\n"
     ]
    },
    {
     "name": "stderr",
     "output_type": "stream",
     "text": [
      "INFO:root:block: (1, 1, 1); grid: (1, 1, 1)\n",
      "INFO:root:RHS: ['v', '-0.13*v - sinf(x) + 1.62151*cosf(0.59999999999999998*t) + 0.014']\n"
     ]
    },
    {
     "name": "stdout",
     "output_type": "stream",
     "text": [
      "\n",
      "Initializing...\n",
      "threads 1\n",
      "kernel_calls: 20000\n"
     ]
    },
    {
     "name": "stderr",
     "output_type": "stream",
     "text": [
      "Path: 100%|██████████| 1/1 [00:01<00:00,  1.91s/it]\n"
     ]
    },
    {
     "name": "stdout",
     "output_type": "stream",
     "text": [
      "(1, 6)\n",
      "array([[-9.3779290e-01, -1.1290754e+00,  8.7848461e+04, -9.8651941e+02,\n",
      "        -2.2189633e+02,  2.6557601e+09]], dtype=float32)\n",
      "\n",
      "        0: v\n",
      "        1: mean_v\n",
      "        2: std_dev_v\n",
      "        3: x\n",
      "        4: mean_x\n",
      "        5: std_dev_x\n",
      "        \n"
     ]
    },
    {
     "data": {
      "image/png": "[encoded data removed]",
      "text/plain": [
       "<Figure size 1080x720 with 1 Axes>"
      ]
     },
     "metadata": {},
     "output_type": "display_data"
    }
   ],
   "source": [
    "# praca michała\n",
    "\n",
    "import math\n",
    "\n",
    "sde = SDE(\n",
    "    SDE_Param('gamma', 0.13),\n",
    "    SDE_Param('a', 1.62151),\n",
    "    SDE_Param('omega', 0.6),\n",
    "    SDE_Param('f', 0.014),#np.linspace(-0.04,0.04,1000)),\n",
    "    SDE_Param('D', 0),\n",
    "    SDE_Noise('xi', 'normal'),\n",
    "    SDE_VarDependent('x', 0.0, 0),\n",
    "    SDE_VarDependent('v', 0.0, 1),\n",
    "    SDE_VarIndependent('t', 0.0,  2*math.pi/(0.6*200)),\n",
    ")\n",
    "from variables_namespace import gamma, a, omega, f, D, xi, x, v, t\n",
    "sde.rhs = [\n",
    "    v,\n",
    "    - gamma * v - sympy.sin(x) + a * sympy.cos(omega * t) + f + sympy.sqrt(2*gamma*D) * xi\n",
    "]\n",
    "\n",
    "settings = sde.get_default_settings()\n",
    "settings['constants']['steps_per_kernel_call'] = 1\n",
    "settings['constants']['steps_per_period'] = spp = 200\n",
    "settings['constants']['periods'] = periods = 100\n",
    "settings['constants']['transients'] = 0.1\n",
    "settings['simulation']['paths'] = paths = 1\n",
    "pprint.pprint(settings)\n",
    "\n",
    "class Callback:\n",
    "    def __init__(self, paths, periods, spp):\n",
    "        self.trajectory = np.zeros((paths, periods*spp))\n",
    "        self.trajectories = []\n",
    "        self.path = 0\n",
    "    def post_kernel_call(self, **l):\n",
    "        self.trajectories.append(sde.get_values()[0,3])\n",
    "    def post_path(self, **l):\n",
    "        self.trajectory[self.path, :] = np.array(self.trajectories)\n",
    "        self.trajectories = []\n",
    "        self.path += 1\n",
    "c = Callback(paths, periods, spp)\n",
    "sde.register_callback(c.post_kernel_call, 'post_kernel_call')\n",
    "sde.register_callback(c.post_path, 'post_path')\n",
    "\n",
    "out = sde.solve(settings)\n",
    "\n",
    "### plot ###\n",
    "\n",
    "%matplotlib inline\n",
    "import matplotlib.pyplot as plt\n",
    "import random\n",
    "plt.figure(figsize=(15,10))\n",
    "for i in range(paths):\n",
    "    plt.plot(list(range(periods*spp)), c.trajectory[i, :], color=(random.uniform(0, 1), random.uniform(0, 1), random.uniform(0, 1)))\n",
    "plt.grid()"
   ]
  },
  {
   "cell_type": "markdown",
   "metadata": {},
   "source": [
    "### 1"
   ]
  },
  {
   "cell_type": "code",
   "execution_count": null,
   "metadata": {},
   "outputs": [],
   "source": [
    "# https://docs.scipy.org/doc/scipy/reference/generated/scipy.integrate.odeint.html\n",
    "\n",
    "from scipy.integrate import odeint\n",
    "import numpy as np\n",
    "import matplotlib.pyplot as plt\n",
    "\n",
    "def f(z, t):\n",
    "    x, v = z\n",
    "    dzdt = [np.cos(v), np.cos(x)]\n",
    "    return dzdt\n",
    "\n",
    "z0 = [0, 10*np.sin(np.pi/4)]\n",
    "t = [0.001*x for x in range(8000)]\n",
    "\n",
    "sol = odeint(f, z0, t)\n",
    "\n",
    "plt.plot(sol[:, 0], 'r')\n",
    "plt.plot(sol[:, 1], 'g')\n",
    "plt.show()\n",
    "\n",
    "print(sol)\n",
    "print(np.mean(np.array(sol), axis=0))\n",
    "\n",
    "vals_solver = np.array([*sol[-1,:],*np.mean(np.array(sol), axis=0)])\n",
    "print(vals_solver)"
   ]
  },
  {
   "cell_type": "code",
   "execution_count": null,
   "metadata": {
    "scrolled": false
   },
   "outputs": [],
   "source": [
    "import pprint\n",
    "\n",
    "sde = SDE(\n",
    "    SDE_Param('m', 1.0),\n",
    "    SDE_Param('f', 9.8125),\n",
    "    SDE_VarDependent('position', 0.0, 0),\n",
    "    SDE_VarDependent('velocity', 10*np.sin(np.pi/4), 1),\n",
    "    SDE_VarIndependent('t', 0.0, 0.001),\n",
    ")\n",
    "sde.rhs = [sympy.cos(velocity), sympy.cos(position)]\n",
    "settings = sde.get_default_settings()\n",
    "settings['constants']['steps_per_kernel_call'] = 1000\n",
    "settings['constants']['steps_per_period'] = 8000\n",
    "settings['constants']['periods'] = 1\n",
    "settings['simulation']['integration_method'] = 'rk4'\n",
    "pprint.pprint(settings)\n",
    "print(\"\"\"\n",
    "        0: v\n",
    "        1: mean_v\n",
    "        2: std_dev_v\n",
    "        3: x\n",
    "        4: mean_x\n",
    "        5: std_dev_x\n",
    "        \"\"\")\n",
    "vals_sde = sde.solve(settings)\n",
    "vals_sde = np.array([vals_sde[0,3,0],vals_sde[0,0,0],vals_sde[0,4,0],vals_sde[0,1,0]])\n",
    "print(vals_sde)"
   ]
  },
  {
   "cell_type": "code",
   "execution_count": null,
   "metadata": {},
   "outputs": [],
   "source": [
    "print('rk4')\n",
    "print('x','v','mean_x','mean_v')\n",
    "vals_solver - vals_sde"
   ]
  },
  {
   "cell_type": "code",
   "execution_count": null,
   "metadata": {},
   "outputs": [],
   "source": [
    "print('euler')\n",
    "print('x','v','mean_x','mean_v')\n",
    "vals_solver - vals_sde"
   ]
  },
  {
   "cell_type": "markdown",
   "metadata": {},
   "source": [
    "### 2"
   ]
  },
  {
   "cell_type": "code",
   "execution_count": null,
   "metadata": {},
   "outputs": [],
   "source": [
    "sde = SDE(\n",
    "    SDE_Param('b', 0.25),\n",
    "    SDE_Param('c', 5.0),\n",
    "    SDE_VarDependent('position', np.pi - 0.1, 0),\n",
    "    SDE_VarDependent('velocity', 0.0, 1),\n",
    "    SDE_VarIndependent('t', 0.0, 0.001),\n",
    ")\n",
    "rhs = -b*velocity - c*sympy.sin(position)\n",
    "settings = sde.get_default_settings()\n",
    "settings['simulation']['steps_per_period'] = settings['simulation']['steps_per_kernel_call'] = 10000\n",
    "print(settings)\n",
    "sde.solve(rhs, settings)"
   ]
  },
  {
   "cell_type": "code",
   "execution_count": null,
   "metadata": {},
   "outputs": [],
   "source": [
    "import numpy as np, matplotlib.pyplot as plt, matplotlib.font_manager as fm,os\n",
    "from scipy.integrate import odeint\n",
    "from mpl_toolkits.mplot3d.axes3d import Axes3D\n",
    "\n",
    "initial_state = [0.1, 0, 0, 1,1,1]\n",
    "a = 4\n",
    "time_points = np.linspace(0, 100, 10000)\n",
    "\n",
    "def my_system(current_state, t):\n",
    "    theta1, theta2, theta3, omega1, omega2, omega3 = current_state\n",
    "\n",
    "    d2theta1_dt2 = -a*(2*theta1-theta2-theta3)\n",
    "    d2theta2_dt2 = -a*(2*theta2-theta1-theta3)\n",
    "    d2theta3_dt2 = -a*(2*theta3-theta1-theta2)\n",
    "\n",
    "    return [ omega1, omega2, omega3, d2theta1_dt2, d2theta2_dt2, d2theta3_dt2]\n",
    "\n",
    "xyz = odeint(my_system, initial_state, time_points)\n",
    "\n",
    "theta1 = xyz[:, 0]\n",
    "theta2 = xyz[:, 1]\n",
    "theta3 = xyz[:, 2]\n",
    "\n",
    "fig = plt.figure(figsize=(12, 9))\n",
    "ax = fig.gca(projection='3d')\n",
    "ax.xaxis.set_pane_color((1,1,1,1))\n",
    "ax.yaxis.set_pane_color((1,1,1,1))\n",
    "ax.zaxis.set_pane_color((1,1,1,1))\n",
    "ax.plot(theta1, theta2, theta3, color='g', alpha=0.7, linewidth=0.6)\n",
    "ax.set_title('plot')\n",
    "plt.show()"
   ]
  },
  {
   "cell_type": "markdown",
   "metadata": {},
   "source": [
    "### 3"
   ]
  },
  {
   "cell_type": "code",
   "execution_count": null,
   "metadata": {},
   "outputs": [],
   "source": [
    "sde = SDE(\n",
    "    SDE_Param('m', 0.1),\n",
    "    SDE_Param('gamma', 1.0),\n",
    "    SDE_Param('a', 8.55),\n",
    "    SDE_Param('omega', 12.38),\n",
    "    SDE_Param('f', 0.5),\n",
    "    SDE_VarDependent('position', 0.0, 0),\n",
    "    SDE_VarDependent('velocity', 0.0, 1),\n",
    "    SDE_VarIndependent('t', 0.0,  2*np.pi/3000),\n",
    "    SDE_Function('U', lambda x: sympy.sin(2*np.pi*x))\n",
    ")\n",
    "rhs = [\n",
    "    velocity,\n",
    "    1.0 / m * (-gamma * velocity - sympy.diff(U(position), position) + a * sympy.cos(omega * t) + f)\n",
    "]\n",
    "settings = sde.get_default_settings()\n",
    "settings['simulation']['periods'] = 1000\n",
    "settings['simulation']['steps_per_period'] = 800\n",
    "pprint.pprint(settings)\n",
    "sde.solve(rhs, settings)\n",
    "\n",
    "######\n",
    "\n",
    "print('data:\\n', sde.data)\n",
    "\n",
    "init_printing()\n",
    "print('\\n\\nequation:\\n')\n",
    "display(sde.rhs)\n",
    "print('\\n\\nfree symbols:\\n')\n",
    "display(list(eq.free_symbols for eq in sde.rhs))\n",
    "print('\\n\\nequation with substituted [0]values:\\n')\n",
    "display(list(eq.subs(sde.get_0subs()) for eq in sde.rhs))\n",
    "# display(rhs.subs(Value.subs_uneval()))"
   ]
  },
  {
   "cell_type": "markdown",
   "metadata": {},
   "source": [
    "### 4"
   ]
  },
  {
   "cell_type": "code",
   "execution_count": 9,
   "metadata": {
    "scrolled": false
   },
   "outputs": [
    {
     "name": "stderr",
     "output_type": "stream",
     "text": [
      "WARNING:root:Value 'm' already defined, overwriting...\n",
      "WARNING:root:Value 'F' already defined, overwriting...\n",
      "WARNING:root:Value 'x' already defined, overwriting...\n",
      "WARNING:root:Value 'v' already defined, overwriting...\n",
      "WARNING:root:Value 't' already defined, overwriting...\n"
     ]
    },
    {
     "name": "stdout",
     "output_type": "stream",
     "text": [
      "{'constants': {'afterstep_every': 1000,\n",
      "               'periods': 1,\n",
      "               'steps_per_kernel_call': 1,\n",
      "               'steps_per_period': 100},\n",
      " 'debug': {'enabled': True},\n",
      " 'gpu': {'cuda': True,\n",
      "         'device': 1,\n",
      "         'max_blocks_per_grid': 2147483647,\n",
      "         'max_threads_per_block': 1024,\n",
      "         'regenerate_cu': True,\n",
      "         'warp_size': 32},\n",
      " 'output': {'config_filename': 'config.pkl',\n",
      "            'folder_path': './out/',\n",
      "            'kernel_filename': 'kernel.cu'},\n",
      " 'simulation': {'block_size': None,\n",
      "                'fit_to_warp_size': False,\n",
      "                'grid_size': None,\n",
      "                'integration_method': 'rk4',\n",
      "                'number_of_threads': None,\n",
      "                'paths': 1,\n",
      "                'precision': 'float'}}\n",
      "  sympy_symbol                  type   values   step derivative_order\n",
      "m            m             parameter     [10]   None             None\n",
      "F            F             parameter  [-98.1]   None             None\n",
      "x            x    dependent variable        0   None                0\n",
      "v            v    dependent variable       30   None                1\n",
      "t            t  independent variable        0  0.062             None\n"
     ]
    },
    {
     "name": "stderr",
     "output_type": "stream",
     "text": [
      "INFO:root:block: (1, 1, 1); grid: (1, 1, 1)\n",
      "INFO:root:RHS: ['v', '-9.8100000000000005']\n"
     ]
    },
    {
     "name": "stdout",
     "output_type": "stream",
     "text": [
      "\n"
     ]
    },
    {
     "name": "stderr",
     "output_type": "stream",
     "text": [
      "Path: 100%|██████████| 1/1 [00:00<00:00, 45.32it/s]"
     ]
    },
    {
     "name": "stdout",
     "output_type": "stream",
     "text": [
      "Initializing...\n",
      "watki 1\n",
      "kernel_calls: 100\n",
      "(1, 6, 1)\n"
     ]
    },
    {
     "name": "stderr",
     "output_type": "stream",
     "text": [
      "\n",
      "DEBUG:matplotlib.backends:backend module://ipykernel.pylab.backend_inline version unknown\n"
     ]
    },
    {
     "name": "stdout",
     "output_type": "stream",
     "text": [
      "array([[[-3.0821964e+01],\n",
      "        [-7.1508926e-01],\n",
      "        [ 3.0824537e+04]]], dtype=float32)\n",
      "\n",
      "        0: v\n",
      "        1: mean_v\n",
      "        2: std_dev_v\n",
      "        3: x\n",
      "        4: mean_x\n",
      "        5: std_dev_x\n",
      "        \n",
      "sdepy\n",
      "[1.8411453, 3.6445808, 5.410307, 7.1383233, 8.82863, 10.481228, 12.096115, 13.673293, 15.212762, 16.714521, 18.17857, 19.60491, 20.99354, 22.34446, 23.657671, 24.933172, 26.170963, 27.371046, 28.533419, 29.658081, 30.745035, 31.79428, 32.805813, 33.779636, 34.71575, 35.61416, 36.474854, 37.29784, 38.08312, 38.830685, 39.540543, 40.21269, 40.847126, 41.443855, 42.002872, 42.52418, 43.007782, 43.45367, 43.86185, 44.232323, 44.565083, 44.860134, 45.117477, 45.33711, 45.51903, 45.663242, 45.769745, 45.83854, 45.86962, 45.862995, 45.81866, 45.736614, 45.61686, 45.459396, 45.26422, 45.031338, 44.760746, 44.452442, 44.10643, 43.722706, 43.301273, 42.842133, 42.34528, 41.81072, 41.23845, 40.628468, 39.980778, 39.29538, 38.57227, 37.81145, 37.012924, 36.176685, 35.30274, 34.39108, 33.44171, 32.454636, 31.42985, 30.367353, 29.267147, 28.129232, 26.953608, 25.740273, 24.48923, 23.200476, 21.874012, 20.50984, 19.107958, 17.668365, 16.191065, 14.676054, 13.123333, 11.532903, 9.904763, 8.238914, 6.5353546, 4.794086, 3.0151079, 1.19842, -0.6559773, -2.5480843]\n",
      "analytical\n",
      "[ 1.84114518  3.64458072  5.41030662  7.13832288  8.8286295  10.48122648\n",
      " 12.09611382 13.67329152 15.21275958 16.714518   18.17856678 19.60490592\n",
      " 20.99353542 22.34445528 23.6576655  24.93316608 26.17095702 27.37103832\n",
      " 28.53340998 29.658072   30.74502438 31.79426712 32.80580022 33.77962368\n",
      " 34.7157375  35.61414168 36.47483622 37.29782112 38.08309638 38.830662\n",
      " 39.54051798 40.21266432 40.84710102 41.44382808 42.0028455  42.52415328\n",
      " 43.00775142 43.45363992 43.86181878 44.232288   44.56504758 44.86009752\n",
      " 45.11743782 45.33706848 45.5189895  45.66320088 45.76970262 45.83849472\n",
      " 45.86957718 45.86295    45.81861318 45.73656672 45.61681062 45.45934488\n",
      " 45.2641695  45.03128448 44.76068982 44.45238552 44.10637158 43.722648\n",
      " 43.30121478 42.84207192 42.34521942 41.81065728 41.2383855  40.62840408\n",
      " 39.98071302 39.29531232 38.57220198 37.811382   37.01285238 36.17661312\n",
      " 35.30266422 34.39100568 33.4416375  32.45455968 31.42977222 30.36727512\n",
      " 29.26706838 28.129152   26.95352598 25.74019032 24.48914502 23.20039008\n",
      " 21.8739255  20.50975128 19.10786742 17.66827392 16.19097078 14.675958\n",
      " 13.12323558 11.53280352  9.90466182  8.23881048  6.5352495   4.79397888\n",
      "  3.01499862  1.19830872 -0.65609082 -2.5482    ]\n"
     ]
    },
    {
     "data": {
      "image/png": "[encoded data removed]",
      "text/plain": [
       "<Figure size 432x288 with 1 Axes>"
      ]
     },
     "metadata": {},
     "output_type": "display_data"
    }
   ],
   "source": [
    "# parabola (OK!)\n",
    "\n",
    "X = []\n",
    "def f(**loc):\n",
    "    if loc['path']==loc['s']['simulation']['paths']-1:\n",
    "        loc['mod'].get_function(\"get_values\")(loc['output_gpu'], block=loc['s']['simulation']['block_size'], grid=loc['s']['simulation']['grid_size'])\n",
    "        X.append(loc['output_gpu'].get()[0,3,0])\n",
    "\n",
    "sde = SDE(\n",
    "    SDE_Param('m', 10),\n",
    "    SDE_Param('F', -98.1),\n",
    "    SDE_VarDependent('x', 0.0, 0),\n",
    "    SDE_VarDependent('v', 30.0, 1),\n",
    "    SDE_VarIndependent('t', 0.0,  0.062),\n",
    ")\n",
    "sde.rhs = [\n",
    "    v,\n",
    "    F/m\n",
    "]\n",
    "settings = sde.get_default_settings()\n",
    "settings['simulation']['paths'] = 1\n",
    "settings['constants']['periods'] = 1\n",
    "settings['constants']['steps_per_kernel_call'] = 1\n",
    "settings['constants']['steps_per_period'] = 100\n",
    "pprint.pprint(settings)\n",
    "print(sde.data)\n",
    "sde.register_callback(f, 'post_kernel_call')\n",
    "\n",
    "out = sde.solve(settings)\n",
    "\n",
    "###\n",
    "\n",
    "%matplotlib inline\n",
    "import matplotlib.pyplot as plt\n",
    "\n",
    "T = np.arange(1, sde.settings['constants']['steps_per_period']+1) * list(sde.row_iterator('type', 'independent variable'))[0].step\n",
    "\n",
    "plt.plot(T, X, c='r',linestyle='-')\n",
    "print('sdepy')\n",
    "print(X)\n",
    "\n",
    "x = 30 * T - T**2*9.81/2\n",
    "plt.plot(T,x,c='b',linestyle=':')\n",
    "print('analytical')\n",
    "print(x)"
   ]
  },
  {
   "cell_type": "markdown",
   "metadata": {},
   "source": [
    "## 5"
   ]
  },
  {
   "cell_type": "code",
   "execution_count": 11,
   "metadata": {
    "scrolled": false
   },
   "outputs": [
    {
     "name": "stderr",
     "output_type": "stream",
     "text": [
      "WARNING:root:Value 'x' already defined, overwriting...\n",
      "WARNING:root:Value 'v' already defined, overwriting...\n",
      "WARNING:root:Value 't' already defined, overwriting...\n",
      "INFO:root:block: (1, 1, 1); grid: (1, 1, 1)"
     ]
    },
    {
     "name": "stdout",
     "output_type": "stream",
     "text": [
      "{'constants': {'afterstep_every': 1000,\n",
      "               'periods': 1,\n",
      "               'steps_per_kernel_call': 1,\n",
      "               'steps_per_period': 100},\n",
      " 'debug': {'enabled': True},\n",
      " 'gpu': {'cuda': True,\n",
      "         'device': 1,\n",
      "         'max_blocks_per_grid': 2147483647,\n",
      "         'max_threads_per_block': 1024,\n",
      "         'regenerate_cu': True,\n",
      "         'warp_size': 32},\n",
      " 'output': {'config_filename': 'config.pkl',\n",
      "            'folder_path': './out/',\n",
      "            'kernel_filename': 'kernel.cu'},\n",
      " 'simulation': {'block_size': None,\n",
      "                'fit_to_warp_size': False,\n",
      "                'grid_size': None,\n",
      "                'integration_method': 'rk4',\n",
      "                'number_of_threads': None,\n",
      "                'paths': 100,\n",
      "                'precision': 'float'}}\n",
      "  sympy_symbol                  type  values  step derivative_order\n",
      "x            x    dependent variable     1.0  None                0\n",
      "v            v    dependent variable     0.0  None                1\n",
      "t            t  independent variable     0.0  0.05             None\n"
     ]
    },
    {
     "name": "stderr",
     "output_type": "stream",
     "text": [
      "\n",
      "INFO:root:RHS: ['-2*sinf(2*t)', '-4*cosf(2*t)']\n"
     ]
    },
    {
     "name": "stdout",
     "output_type": "stream",
     "text": [
      "\n"
     ]
    },
    {
     "name": "stderr",
     "output_type": "stream",
     "text": [
      "\r",
      "Path:   0%|          | 0/100 [00:00<?, ?it/s]"
     ]
    },
    {
     "name": "stdout",
     "output_type": "stream",
     "text": [
      "Initializing...\n",
      "watki 1\n",
      "kernel_calls: 100\n"
     ]
    },
    {
     "name": "stderr",
     "output_type": "stream",
     "text": [
      "Path: 100%|██████████| 100/100 [00:00<00:00, 512.29it/s]\n",
      "DEBUG:matplotlib.backends:backend module://ipykernel.pylab.backend_inline version unknown\n"
     ]
    },
    {
     "name": "stdout",
     "output_type": "stream",
     "text": [
      "(1, 6, 1)\n",
      "array([[[  1.0880332 ],\n",
      "        [ -0.36206725],\n",
      "        [178.38399   ]]], dtype=float32)\n",
      "\n",
      "        0: v\n",
      "        1: mean_v\n",
      "        2: std_dev_v\n",
      "        3: x\n",
      "        4: mean_x\n",
      "        5: std_dev_x\n",
      "        \n",
      "sdepy x\n",
      "[0.9950042, 0.9800666, 0.9553365, 0.92106104, 0.8775826, 0.8253357, 0.7648423, 0.6967068, 0.62161005, 0.5403024, 0.4535962, 0.36235783, 0.26749888, 0.16996719, 0.070737235, -0.02919949, -0.12884447, -0.22720207, -0.32328954, -0.4161468, -0.5048461, -0.5885011, -0.666276, -0.7373937, -0.8011436, -0.8568888, -0.9040722, -0.9422225, -0.97095835, -0.98999274, -0.9991355, -0.9982952, -0.9874803, -0.9667988, -0.9364574, -0.8967592, -0.84810096, -0.7909688, -0.7259335, -0.6536449, -0.57482535, -0.4902623, -0.4008007, -0.30733445, -0.21079743, -0.11215418, -0.012390325, 0.08749733, 0.18651076, 0.28366062, 0.37797627, 0.4685153, 0.5543731, 0.6346918, 0.7086689, 0.7755652, 0.8347123, 0.8855193, 0.9274785, 0.9601706, 0.9832691, 0.9965431, 0.99986, 0.9931866, 0.9765897, 0.950235, 0.9143859, 0.8694006, 0.81572855, 0.753906, 0.6845507, 0.60835564, 0.5260821, 0.4385521, 0.3466403, 0.25126496, 0.15337907, 0.05396067, -0.045996875, -0.14549483, -0.24353907, -0.33914992, -0.4313721, -0.5192841, -0.6020076, -0.678716, -0.74864286, -0.81108946, -0.86543185, -0.9111271, -0.9477186, -0.97484076, -0.99222255, -0.9996903, -0.99716944, -0.9846851, -0.9623621, -0.9304234, -0.8891881, -0.83906835]\n",
      "analytical x\n",
      "[ 0.99500417  0.98006658  0.95533649  0.92106099  0.87758256  0.82533561\n",
      "  0.76484219  0.69670671  0.62160997  0.54030231  0.45359612  0.36235775\n",
      "  0.26749883  0.16996714  0.0707372  -0.02919952 -0.12884449 -0.22720209\n",
      " -0.32328957 -0.41614684 -0.5048461  -0.58850112 -0.66627602 -0.73739372\n",
      " -0.80114362 -0.85688875 -0.90407214 -0.94222234 -0.97095817 -0.9899925\n",
      " -0.99913515 -0.99829478 -0.98747977 -0.96679819 -0.93645669 -0.89675842\n",
      " -0.84810003 -0.79096771 -0.7259323  -0.65364362 -0.57482395 -0.49026082\n",
      " -0.40079917 -0.30733287 -0.2107958  -0.11215253 -0.01238866  0.08749898\n",
      "  0.18651237  0.28366219  0.37797774  0.46851667  0.55437434  0.63469288\n",
      "  0.70866977  0.77556588  0.83471278  0.88551952  0.92747843  0.96017029\n",
      "  0.98326844  0.9965421   0.99985864  0.99318492  0.97658763  0.95023259\n",
      "  0.91438315  0.86939749  0.8157251   0.75390225  0.68454667  0.60835131\n",
      "  0.52607752  0.43854733  0.34663532  0.25125984  0.15337386  0.05395542\n",
      " -0.04600213 -0.14550003 -0.24354415 -0.33915486 -0.43137684 -0.51928865\n",
      " -0.6020119  -0.67872005 -0.74864665 -0.81109301 -0.86543521 -0.91113026\n",
      " -0.9477216  -0.97484362 -0.99222533 -0.99969304 -0.99717216 -0.98468786\n",
      " -0.96236488 -0.93042627 -0.88919115 -0.83907153]\n",
      "sdepy v\n",
      "[-0.19966684, -0.3973387, -0.59104043, -0.7788367, -0.9588511, -1.129285, -1.2884355, -1.4347123, -1.566654, -1.6829422, -1.7824149, -1.8640784, -1.9271166, -1.9708997, -1.9949902, -1.9991474, -1.9833298, -1.9476954, -1.8926002, -1.8185948, -1.7264186, -1.6169927, -1.4914103, -1.3509262, -1.1969441, -1.0310026, -0.8547597, -0.66997623, -0.4784986, -0.28224, -0.08316131, 0.11674832, 0.31549144, 0.5110823, 0.70156664, 0.8850412, 1.0596727, 1.2237164, 1.3755331, 1.5136061, 1.6365556, 1.7431531, 1.8323337, 1.9032062, 1.9550626, 1.9873848, 1.9998497, 1.9923328, 1.9649092, 1.917853, 1.8516343, 1.7669146, 1.6645406, 1.5455351, 1.4110872, 1.2625401, 1.1013782, 0.92921174, 0.74776095, 0.55883884, 0.364333, 0.16618685, -0.033619743, -0.23309042, -0.4302321, -0.62307507, -0.80969244, -0.9882197, -1.156873, -1.3139672, -1.4579327, -1.587331, -1.7008693, -1.797413, -1.8759975, -1.9358379, -1.9763359, -1.9970871, -1.9978842, -1.978719, -1.9397832, -1.8814657, -1.8043491, -1.709204, -1.596981, -1.4688015, -1.3259462, -1.1698425, -1.00205, -0.8242455, -0.6382054, -0.44578856, -0.24891761, -0.04955962, 0.15029348, 0.34864482, 0.5435125, 0.7329495, 0.9150629, 1.0880332]\n",
      "analytical v\n",
      "[-0.19966683 -0.39733866 -0.59104041 -0.77883668 -0.95885108 -1.12928495\n",
      " -1.28843537 -1.43471218 -1.56665382 -1.68294197 -1.78241472 -1.86407817\n",
      " -1.92711637 -1.97089946 -1.99498997 -1.99914721 -1.98332962 -1.94769526\n",
      " -1.89260018 -1.81859485 -1.72641873 -1.61699281 -1.49141042 -1.35092636\n",
      " -1.19694429 -1.03100274 -0.85475976 -0.6699763  -0.47849866 -0.28224002\n",
      " -0.08316132  0.11674829  0.31549139  0.5110822   0.70156646  0.88504089\n",
      "  1.05967228  1.22371578  1.37553232  1.51360499  1.63655422  1.74315154\n",
      "  1.83233187  1.90320415  1.95506024  1.98738201  1.99984652  1.99232922\n",
      "  1.96490523  1.91784855  1.85162936  1.76690931  1.66453488  1.54552898\n",
      "  1.41108065  1.26253328  1.10137109  0.92920436  0.74775333  0.558831\n",
      "  0.36432501  0.16617881 -0.0336278  -0.23309841 -0.43023998 -0.62308273\n",
      " -0.80969984 -0.9882267  -1.15687953 -1.3139732  -1.45793808 -1.58733573\n",
      " -1.70087324 -1.79741619 -1.87599995 -1.93583934 -1.97633647 -1.99708669\n",
      " -1.99788268 -1.97871649 -1.93977962 -1.88146111 -1.80434367 -1.70919782\n",
      " -1.59697423 -1.4687942  -1.32593846 -1.16983439 -1.00204171 -0.82423697\n",
      " -0.63819672 -0.44577983 -0.24890885 -0.04955085  0.15030224  0.34865356\n",
      "  0.54352125  0.73295826  0.91507179  1.08804222]\n"
     ]
    },
    {
     "data": {
      "text/plain": [
       "<matplotlib.legend.Legend at 0x7f2c18433748>"
      ]
     },
     "execution_count": 11,
     "metadata": {},
     "output_type": "execute_result"
    },
    {
     "data": {
      "image/png": "[encoded data removed]",
      "text/plain": [
       "<Figure size 432x288 with 1 Axes>"
      ]
     },
     "metadata": {},
     "output_type": "display_data"
    }
   ],
   "source": [
    "# sin/cos\n",
    "\n",
    "X = []\n",
    "V = []\n",
    "def f(out):\n",
    "    X.append(out[0,3,0])\n",
    "    V.append(out[0,0,0])\n",
    "\n",
    "sde = SDE(\n",
    "    SDE_VarDependent('x', 1.0, 0),\n",
    "    SDE_VarDependent('v', 0.0, 1),\n",
    "    SDE_VarIndependent('t', 0.0,  0.05),\n",
    ")\n",
    "sde.rhs = [\n",
    "    -2 * sympy.sin(2*t),\n",
    "    -4 * sympy.cos(2*t)\n",
    "]\n",
    "settings = sde.get_default_settings()\n",
    "settings['simulation']['paths'] = 100\n",
    "settings['constants']['periods'] = 1\n",
    "settings['constants']['steps_per_kernel_call'] = 1\n",
    "settings['constants']['steps_per_period'] = 100\n",
    "pprint.pprint(settings)\n",
    "print(sde.data)\n",
    "sde.callback = f\n",
    "\n",
    "out = sde.solve(settings)\n",
    "\n",
    "###\n",
    "\n",
    "%matplotlib inline\n",
    "import matplotlib.pyplot as plt\n",
    "\n",
    "T = np.arange(1,1+sde.settings['constants']['steps_per_period']) * list(sde.row_iterator('type', 'independent variable'))[0].step\n",
    "\n",
    "plt.plot(T, X, c='r',linestyle='-', label='x sdepy')\n",
    "print('sdepy x')\n",
    "print(X)\n",
    "\n",
    "x = np.cos(2*T)\n",
    "plt.plot(T,x,c='b',linestyle=':', label='x analytical')\n",
    "print('analytical x')\n",
    "print(x)\n",
    "\n",
    "plt.plot(T, V, c='g',linestyle='-', label='v sdepy')\n",
    "print('sdepy v')\n",
    "print(V)\n",
    "\n",
    "v = -2 * np.sin(2*T)\n",
    "plt.plot(T,v,c='orange',linestyle=':', label='v analytical')\n",
    "print('analytical v')\n",
    "print(v)\n",
    "\n",
    "plt.legend()"
   ]
  },
  {
   "cell_type": "markdown",
   "metadata": {},
   "source": [
    "## 6"
   ]
  },
  {
   "cell_type": "code",
   "execution_count": 13,
   "metadata": {
    "scrolled": false
   },
   "outputs": [
    {
     "name": "stderr",
     "output_type": "stream",
     "text": [
      "WARNING:root:Value 'x' already defined, overwriting...\n",
      "WARNING:root:Value 't' already defined, overwriting...\n"
     ]
    },
    {
     "name": "stdout",
     "output_type": "stream",
     "text": [
      "{'constants': {'afterstep_every': 1000,\n",
      "               'periods': 1,\n",
      "               'steps_per_kernel_call': 1,\n",
      "               'steps_per_period': 100},\n",
      " 'debug': {'enabled': True},\n",
      " 'gpu': {'cuda': True,\n",
      "         'device': 1,\n",
      "         'max_blocks_per_grid': 2147483647,\n",
      "         'max_threads_per_block': 1024,\n",
      "         'regenerate_cu': True,\n",
      "         'warp_size': 32},\n",
      " 'output': {'config_filename': 'config.pkl',\n",
      "            'folder_path': './out/',\n",
      "            'kernel_filename': 'kernel.cu'},\n",
      " 'simulation': {'block_size': None,\n",
      "                'fit_to_warp_size': False,\n",
      "                'grid_size': None,\n",
      "                'integration_method': 'rk4',\n",
      "                'number_of_threads': None,\n",
      "                'paths': 100,\n",
      "                'precision': 'float'}}\n",
      "  sympy_symbol                  type  values   step derivative_order\n",
      "x            x    dependent variable     1.0   None                0\n",
      "t            t  independent variable     2.0  0.005             None\n"
     ]
    },
    {
     "name": "stderr",
     "output_type": "stream",
     "text": [
      "INFO:root:block: (1, 1, 1); grid: (1, 1, 1)\n",
      "INFO:root:RHS: ['5*x - 3']\n"
     ]
    },
    {
     "name": "stdout",
     "output_type": "stream",
     "text": [
      "\n"
     ]
    },
    {
     "name": "stderr",
     "output_type": "stream",
     "text": [
      "\r",
      "Path:   0%|          | 0/100 [00:00<?, ?it/s]"
     ]
    },
    {
     "name": "stdout",
     "output_type": "stream",
     "text": [
      "Initializing...\n",
      "watki 1\n",
      "kernel_calls: 100\n"
     ]
    },
    {
     "name": "stderr",
     "output_type": "stream",
     "text": [
      "Path: 100%|██████████| 100/100 [00:00<00:00, 526.08it/s]\n",
      "DEBUG:matplotlib.backends:backend module://ipykernel.pylab.backend_inline version unknown\n"
     ]
    },
    {
     "name": "stdout",
     "output_type": "stream",
     "text": [
      "(1, 3, 1)\n",
      "array([[[  5.4729977],\n",
      "        [  2.411657 ],\n",
      "        [155.40327  ]]], dtype=float32)\n",
      "\n",
      "        0: v\n",
      "        1: mean_v\n",
      "        2: std_dev_v\n",
      "        3: x\n",
      "        4: mean_x\n",
      "        5: std_dev_x\n",
      "        \n",
      "sdepy x\n",
      "[1.010126, 1.0205084, 1.0311537, 1.0420684, 1.0532594, 1.0647337, 1.0764985, 1.0885612, 1.1009291, 1.1136103, 1.1266124, 1.1399437, 1.1536125, 1.1676272, 1.1819968, 1.1967301, 1.2118365, 1.2273252, 1.243206, 1.2594888, 1.2761838, 1.2933015, 1.3108525, 1.3288479, 1.3472987, 1.3662167, 1.3856136, 1.4055015, 1.4258928, 1.4468004, 1.4682372, 1.4902167, 1.5127527, 1.5358591, 1.5595505, 1.5838417, 1.6087477, 1.6342843, 1.6604673, 1.6873131, 1.7148385, 1.7430608, 1.7719976, 1.8016669, 1.8320872, 1.8632776, 1.8952576, 1.9280472, 1.9616668, 1.9961376, 2.031481, 2.0677192, 2.1048746, 2.1429708, 2.1820314, 2.2220807, 2.2631438, 2.3052464, 2.348415, 2.392676, 2.438058, 2.4845886, 2.5322971, 2.5812135, 2.6313682, 2.6827924, 2.7355185, 2.7895794, 2.8450089, 2.9018414, 2.9601128, 3.0198593, 3.0811183, 3.143928, 3.208328, 3.274358, 3.3420596, 3.4114752, 3.482648, 3.5556226, 3.6304445, 3.7071605, 3.7858186, 3.866468, 3.949159, 4.033943, 4.120874, 4.2100053, 4.301393, 4.3950944, 4.4911675, 4.589673, 4.690672, 4.7942276, 4.900405, 5.00927, 5.1208916, 5.2353387, 5.352683, 5.4729977]\n",
      "analytical x\n",
      "[1.01012605 1.02050844 1.03115366 1.04206837 1.05325938 1.0647337\n",
      " 1.07649849 1.0885611  1.10092909 1.11361017 1.12661227 1.13994352\n",
      " 1.15361226 1.16762702 1.18199657 1.19672988 1.21183617 1.22732487\n",
      " 1.24320568 1.25948851 1.27618354 1.29330121 1.31085221 1.32884752\n",
      " 1.34729838 1.36621633 1.38561319 1.40550108 1.42589244 1.44680001\n",
      " 1.46823685 1.49021637 1.51275231 1.53585874 1.55955012 1.58384124\n",
      " 1.6087473  1.63428386 1.66046688 1.68731273 1.71483818 1.74306045\n",
      " 1.77199716 1.80166641 1.83208674 1.86327716 1.89525718 1.92804677\n",
      " 1.96166643 1.99613718 2.03148056 2.06771867 2.10487414 2.14297021\n",
      " 2.18203069 2.22207999 2.26314314 2.30524581 2.34841431 2.39267563\n",
      " 2.43805743 2.48458807 2.53229665 2.58121297 2.63136761 2.68279193\n",
      " 2.73551806 2.78957896 2.84500841 2.90184107 2.96011245 3.01985899\n",
      " 3.08111801 3.14392781 3.20832765 3.27435778 3.34205947 3.41147503\n",
      " 3.48264786 3.55562244 3.63044438 3.70716044 3.78581858 3.86646797\n",
      " 3.949159   4.03394336 4.12087405 4.2100054  4.30139312 4.39509433\n",
      " 4.49116761 4.58967298 4.69067203 4.79422789 4.90040527 5.00927055\n",
      " 5.12089177 5.23533869 5.35268285 5.47299758]\n"
     ]
    },
    {
     "data": {
      "text/plain": [
       "<matplotlib.legend.Legend at 0x7f2c1851dcc0>"
      ]
     },
     "execution_count": 13,
     "metadata": {},
     "output_type": "execute_result"
    },
    {
     "data": {
      "image/png": "[encoded data removed]",
      "text/plain": [
       "<Figure size 432x288 with 1 Axes>"
      ]
     },
     "metadata": {},
     "output_type": "display_data"
    }
   ],
   "source": [
    "# 1ODE\n",
    "\n",
    "X = []\n",
    "def f(out):\n",
    "    X.append(out[0,0,0])\n",
    "\n",
    "sde = SDE(\n",
    "    SDE_VarDependent('x', 1.0, 0),\n",
    "    SDE_VarIndependent('t', 2.0,  0.005),\n",
    ")\n",
    "sde.rhs = [\n",
    "    5 * x - 3,\n",
    "]\n",
    "settings = sde.get_default_settings()\n",
    "settings['simulation']['paths'] = 100\n",
    "settings['constants']['periods'] = 1\n",
    "settings['constants']['steps_per_kernel_call'] = 1\n",
    "settings['constants']['steps_per_period'] = 100\n",
    "pprint.pprint(settings)\n",
    "print(sde.data)\n",
    "sde.callback = f\n",
    "\n",
    "out = sde.solve(settings)\n",
    "\n",
    "###\n",
    "\n",
    "%matplotlib inline\n",
    "import matplotlib.pyplot as plt\n",
    "\n",
    "T = np.arange(1,1+sde.settings['constants']['steps_per_period']) * list(sde.row_iterator('type', 'independent variable'))[0].step + 2\n",
    "\n",
    "plt.plot(T, X, c='r',linestyle='-', label='x sdepy')\n",
    "print('sdepy x')\n",
    "print(X)\n",
    "\n",
    "x = 2/5 * np.exp(5*T - 10) + 3/5\n",
    "plt.plot(T,x,c='b',linestyle=':', label='x analytical')\n",
    "print('analytical x')\n",
    "print(x)\n",
    "\n",
    "plt.gca().set_yscale('log')\n",
    "\n",
    "plt.legend()"
   ]
  },
  {
   "cell_type": "markdown",
   "metadata": {},
   "source": [
    "## 7"
   ]
  },
  {
   "cell_type": "code",
   "execution_count": 14,
   "metadata": {},
   "outputs": [
    {
     "name": "stderr",
     "output_type": "stream",
     "text": [
      "WARNING:root:Value 't' already defined, overwriting...\n",
      "INFO:root:block: (1, 1, 1); grid: (1, 1, 1)"
     ]
    },
    {
     "name": "stdout",
     "output_type": "stream",
     "text": [
      "{'constants': {'afterstep_every': 1000,\n",
      "               'periods': 1,\n",
      "               'steps_per_kernel_call': 1,\n",
      "               'steps_per_period': 100},\n",
      " 'debug': {'enabled': True},\n",
      " 'gpu': {'cuda': True,\n",
      "         'device': 1,\n",
      "         'max_blocks_per_grid': 2147483647,\n",
      "         'max_threads_per_block': 1024,\n",
      "         'regenerate_cu': True,\n",
      "         'warp_size': 32},\n",
      " 'output': {'config_filename': 'config.pkl',\n",
      "            'folder_path': './out/',\n",
      "            'kernel_filename': 'kernel.cu'},\n",
      " 'simulation': {'block_size': None,\n",
      "                'fit_to_warp_size': False,\n",
      "                'grid_size': None,\n",
      "                'integration_method': 'rk4',\n",
      "                'number_of_threads': None,\n",
      "                'paths': 100,\n",
      "                'precision': 'float'}}\n",
      "   sympy_symbol                  type  values  step derivative_order\n",
      "y1           y1    dependent variable     2.0  None                0\n",
      "y2           y2    dependent variable     0.0  None                1\n",
      "t             t  independent variable     0.0   0.2             None\n"
     ]
    },
    {
     "name": "stderr",
     "output_type": "stream",
     "text": [
      "\n",
      "INFO:root:RHS: ['y2', '-y1 + y2*(-powf(y1, 2) + 1)']\n"
     ]
    },
    {
     "name": "stdout",
     "output_type": "stream",
     "text": [
      "\n"
     ]
    },
    {
     "name": "stderr",
     "output_type": "stream",
     "text": [
      "\r",
      "Path:   0%|          | 0/100 [00:00<?, ?it/s]"
     ]
    },
    {
     "name": "stdout",
     "output_type": "stream",
     "text": [
      "Initializing...\n",
      "watki 1\n",
      "kernel_calls: 100\n"
     ]
    },
    {
     "name": "stderr",
     "output_type": "stream",
     "text": [
      "Path: 100%|██████████| 100/100 [00:00<00:00, 613.30it/s]\n",
      "DEBUG:matplotlib.backends:backend module://ipykernel.pylab.backend_inline version unknown\n"
     ]
    },
    {
     "name": "stdout",
     "output_type": "stream",
     "text": [
      "(1, 6, 1)\n",
      "array([[[-3.5920013e-02],\n",
      "        [ 2.4448792e-04],\n",
      "        [ 2.0580829e+02]]], dtype=float32)\n",
      "\n",
      "        0: v\n",
      "        1: mean_v\n",
      "        2: std_dev_v\n",
      "        3: x\n",
      "        4: mean_x\n",
      "        5: std_dev_x\n",
      "        \n",
      "sdepy x\n",
      "[1.966859, 1.8881059, 1.781535, 1.6543701, 1.5082234, 1.3412999, 1.1490191, 0.9237273, 0.6538992, 0.32366112, -0.08437364, -0.5747213, -1.1050988, -1.5683129, -1.8655764, -1.9917405, -2.0023787, -1.9480267, -1.8569747, -1.7420857, -1.6079764, -1.4547915, -1.2796894, -1.0770642, -0.83801794, -0.5495126, -0.19448191, 0.24265528, 0.7550496, 1.2768477, 1.6908029, 1.9256685, 2.0055802, 1.9895598, 1.920486, 1.8203988, 1.6987281, 1.5582865, 1.3981142, 1.2144501, 1.0006576, 0.74652445, 0.43750548, 0.055905886, -0.40970707, -0.936408, -1.4349275, -1.7909688, -1.9671524, -2.0082529, -1.970632, -1.889369, -1.7813252, -1.653199, -1.5063224, -1.3387408, -1.145765, -0.91964453, -0.6487532, -0.31712642, 0.09258871, 0.58441913, 1.114844, 1.5757803, 1.8696396, 1.9930731, 2.0020854, 1.9468371, 1.8552521, 1.7399839, 1.6055397, 1.4519998, 1.2764733, 1.0733024, 0.83352435, 0.54402363, 0.18768562, -0.25092414, -0.76425666, -1.2852334, -1.696424, -1.9281989, -2.0059664, -1.9887378, -1.9189909, -1.8184773, -1.696473, -1.5557088, -1.3951719, -1.2110549, -0.99666685, -0.74172616, -0.4316124, -0.04862044, 0.41839364, 0.94556284, 1.4425113, 1.7954656, 1.9688185, 2.0081377]\n"
     ]
    },
    {
     "data": {
      "text/plain": [
       "<matplotlib.legend.Legend at 0x7f2c273a6160>"
      ]
     },
     "execution_count": 14,
     "metadata": {},
     "output_type": "execute_result"
    },
    {
     "data": {
      "image/png": "[encoded data removed]",
      "text/plain": [
       "<Figure size 432x288 with 1 Axes>"
      ]
     },
     "metadata": {},
     "output_type": "display_data"
    }
   ],
   "source": [
    "# 2ODE\n",
    "\n",
    "X = []\n",
    "def f(out):\n",
    "    X.append(out[0,3,0])\n",
    "\n",
    "sde = SDE(\n",
    "    SDE_VarDependent('y1', 2.0, 0),\n",
    "    SDE_VarDependent('y2', 0.0, 1),\n",
    "    SDE_VarIndependent('t', 0.0,  0.2),\n",
    ")\n",
    "sde.rhs = [\n",
    "    y2,\n",
    "    (1-y1**2)*y2-y1\n",
    "]\n",
    "settings = sde.get_default_settings()\n",
    "settings['simulation']['paths'] = 100\n",
    "settings['constants']['periods'] = 1\n",
    "settings['constants']['steps_per_kernel_call'] = 1\n",
    "settings['constants']['steps_per_period'] = 100\n",
    "pprint.pprint(settings)\n",
    "print(sde.data)\n",
    "sde.callback = f\n",
    "\n",
    "out = sde.solve(settings)\n",
    "\n",
    "###\n",
    "\n",
    "%matplotlib inline\n",
    "import matplotlib.pyplot as plt\n",
    "\n",
    "T = np.arange(1,1+sde.settings['constants']['steps_per_period']) * list(sde.row_iterator('type', 'independent variable'))[0].step\n",
    "\n",
    "plt.plot(T, X, c='r',linestyle='-', label='x sdepy')\n",
    "print('sdepy x')\n",
    "print(X)\n",
    "\n",
    "# x = 2/5 * np.exp(5*T - 10) + 3/5\n",
    "# plt.plot(T,x,c='b',linestyle=':', label='x analytical')\n",
    "# print('analytical x')\n",
    "# print(x)\n",
    "\n",
    "plt.legend()"
   ]
  },
  {
   "cell_type": "markdown",
   "metadata": {},
   "source": [
    "## 8"
   ]
  },
  {
   "cell_type": "code",
   "execution_count": 18,
   "metadata": {
    "scrolled": false
   },
   "outputs": [
    {
     "name": "stderr",
     "output_type": "stream",
     "text": [
      "WARNING:root:Value 'b' already defined, overwriting...\n",
      "WARNING:root:Value 'c' already defined, overwriting...\n",
      "WARNING:root:Value 'theta' already defined, overwriting...\n",
      "WARNING:root:Value 'omega' already defined, overwriting...\n",
      "WARNING:root:Value 't' already defined, overwriting...\n"
     ]
    },
    {
     "name": "stdout",
     "output_type": "stream",
     "text": [
      "{'constants': {'afterstep_every': 1000,\n",
      "               'periods': 1,\n",
      "               'steps_per_kernel_call': 1,\n",
      "               'steps_per_period': 100},\n",
      " 'debug': {'enabled': True},\n",
      " 'gpu': {'cuda': True,\n",
      "         'device': 1,\n",
      "         'max_blocks_per_grid': 2147483647,\n",
      "         'max_threads_per_block': 1024,\n",
      "         'regenerate_cu': True,\n",
      "         'warp_size': 32},\n",
      " 'output': {'config_filename': 'config.pkl',\n",
      "            'folder_path': './out/',\n",
      "            'kernel_filename': 'kernel.cu'},\n",
      " 'simulation': {'block_size': None,\n",
      "                'fit_to_warp_size': False,\n",
      "                'grid_size': None,\n",
      "                'integration_method': 'rk4',\n",
      "                'number_of_threads': None,\n",
      "                'paths': 100,\n",
      "                'precision': 'float'}}\n",
      "      sympy_symbol                  type   values  step derivative_order\n",
      "b                b             parameter   [0.25]  None             None\n",
      "c                c             parameter    [5.0]  None             None\n",
      "theta        theta    dependent variable  3.04159  None                0\n",
      "omega        omega    dependent variable        0  None                1\n",
      "t                t  independent variable        0   0.1             None\n"
     ]
    },
    {
     "name": "stderr",
     "output_type": "stream",
     "text": [
      "INFO:root:block: (1, 1, 1); grid: (1, 1, 1)\n",
      "INFO:root:RHS: ['omega', '-0.25*omega - 5.0*sinf(theta)']\n"
     ]
    },
    {
     "name": "stdout",
     "output_type": "stream",
     "text": [
      "\n"
     ]
    },
    {
     "name": "stderr",
     "output_type": "stream",
     "text": [
      "\r",
      "Path:   0%|          | 0/100 [00:00<?, ?it/s]"
     ]
    },
    {
     "name": "stdout",
     "output_type": "stream",
     "text": [
      "Initializing...\n",
      "watki 1\n",
      "kernel_calls: 100\n"
     ]
    },
    {
     "name": "stderr",
     "output_type": "stream",
     "text": [
      "Path: 100%|██████████| 100/100 [00:00<00:00, 450.83it/s]\n",
      "DEBUG:matplotlib.backends:backend module://ipykernel.pylab.backend_inline version unknown\n"
     ]
    },
    {
     "name": "stdout",
     "output_type": "stream",
     "text": [
      "(1, 6, 1)\n",
      "array([[[ 1.5678960e+00],\n",
      "        [-2.9433936e-01],\n",
      "        [ 3.4235339e+02]]], dtype=float32)\n",
      "\n",
      "        0: v\n",
      "        1: mean_v\n",
      "        2: std_dev_v\n",
      "        3: x\n",
      "        4: mean_x\n",
      "        5: std_dev_x\n",
      "        \n",
      "sde [-0.049706616, -0.100637555, -0.15527019, -0.21619344, -0.28622237, -0.36851245, -0.4666713, -0.584858, -0.7278503, -0.9010341, -1.1102355, -1.36125, -1.6588409, -2.0048807, -2.3953097, -2.8158708, -3.237539, -3.6143765, -3.8882458, -4.003447, -3.927308, -3.6644237, -3.2536936, -2.7504923, -2.2068257, -1.6597329, -1.1291995, -0.62157804, -0.13452707, 0.33851656, 0.8047092, 1.2686664, 1.7293919, 2.1771996, 2.5913186, 2.9398706, 3.1843855, 3.2896316, 3.2357662, 3.026329, 2.6868536, 2.255105, 1.7691847, 1.2593354, 0.7452478, 0.23746908, -0.25923884, -0.74207145, -1.2065659, -1.6435429, -2.0371077, -2.3646004, -2.5994906, -2.7173858, -2.7034407, -2.557739, -2.2956219, -1.942811, -1.5281892, -1.0777488, -0.6116007, -0.1439631, 0.31494626, 0.75624335, 1.1697766, 1.5422424, 1.8566473, 2.0936701, 2.2350276, 2.2680068, 2.1893642, 2.0066893, 1.7365264, 1.4002787, 1.0198684, 0.614771, 0.2009896, -0.20836571, -0.6016099, -0.9668635, -1.2909148, -1.559074, -1.7563235, -1.8696544, -1.8909115, -1.8190196, -1.6605766, -1.4285262, -1.139549, -0.8112935, -0.46039188, -0.10164208, 0.25179935, 0.5876593, 0.8937429, 1.1575402, 1.3665633, 1.5094947, 1.577894, 1.567896]\n",
      "ode [ 0.         -0.04970768 -0.10063956 -0.15527321 -0.21619767 -0.28622816\n",
      " -0.36852039 -0.46668211 -0.58487276 -0.72787029 -0.90106107 -1.11027155\n",
      " -1.3612978  -1.65890275 -2.0049587  -2.39540405 -2.81597674 -3.23764423\n",
      " -3.61446079 -3.88828749 -4.00343576 -3.92725068 -3.66433553 -3.25358654\n",
      " -2.75037198 -2.20669539 -1.65959566 -1.12905795 -0.62143349 -0.13437941\n",
      "  0.33866852  0.80486693  1.2688304   1.7295602   2.17736547  2.59146936\n",
      "  2.93998777  3.18445014  3.28963183  3.23570232  3.02621066  2.6866937\n",
      "  2.25491542  1.76897524  1.25911366  0.74501896  0.23723631 -0.25947354\n",
      " -0.74230586 -1.20679591 -1.64376076 -2.03730071 -2.36475149 -2.59958227\n",
      " -2.71740504 -2.7033834  -2.55761048 -2.2954336  -1.94257691 -1.52792283\n",
      " -1.0774618  -0.61130215 -0.14366014  0.31524741  0.75653571  1.17005078\n",
      "  1.54248574  1.8568438   2.09380278  2.23508222  2.26797587  2.18924871\n",
      "  2.0064979   1.73627277  1.39997835  1.01953616  0.61442028  0.20063188\n",
      " -0.20871992 -0.6019497  -0.96717639 -1.29118597 -1.55928715 -1.75646233\n",
      " -1.86970647 -1.89087049 -1.81888718 -1.66036152 -1.42824238 -1.13921281\n",
      " -0.81092156 -0.46000002 -0.10124495  0.25218766  0.5880244   0.89406934\n",
      "  1.15781153  1.36676332  1.5096092   1.57791374]\n"
     ]
    },
    {
     "data": {
      "text/plain": [
       "<matplotlib.legend.Legend at 0x7f2bd5fed438>"
      ]
     },
     "execution_count": 18,
     "metadata": {},
     "output_type": "execute_result"
    },
    {
     "data": {
      "image/png": "[encoded data removed]",
      "text/plain": [
       "<Figure size 432x288 with 1 Axes>"
      ]
     },
     "metadata": {},
     "output_type": "display_data"
    }
   ],
   "source": [
    "# wahadło tłumione\n",
    "\n",
    "X = []\n",
    "V = []\n",
    "def f(out):\n",
    "    X.append(out[0,0,0])\n",
    "    V.append(out[0,3,0])\n",
    "\n",
    "sde = SDE(\n",
    "    SDE_Param('b', 0.25),\n",
    "    SDE_Param('c', 5.0),\n",
    "    SDE_VarDependent('theta', np.pi - 0.1, 0),\n",
    "    SDE_VarDependent('omega', 0.0, 1),\n",
    "    SDE_VarIndependent('t', 0.0,  0.1),\n",
    ")\n",
    "sde.rhs = [\n",
    "    omega,\n",
    "    -b * omega -c * sympy.sin(theta)\n",
    "]\n",
    "settings = sde.get_default_settings()\n",
    "settings['simulation']['paths'] = 100\n",
    "settings['constants']['periods'] = 1\n",
    "settings['constants']['steps_per_kernel_call'] = 1\n",
    "settings['constants']['steps_per_period'] = 100\n",
    "settings['simulation']['integration_method'] = 'rk4'\n",
    "pprint.pprint(settings)\n",
    "print(sde.data)\n",
    "sde.callback = f\n",
    "\n",
    "out = sde.solve(settings)\n",
    "\n",
    "###\n",
    "\n",
    "%matplotlib inline\n",
    "import matplotlib.pyplot as plt\n",
    "\n",
    "T = np.arange(sde.settings['constants']['steps_per_period']) * list(sde.row_iterator('type', 'independent variable'))[0].step\n",
    "\n",
    "plt.plot(T, X, c='r',linestyle='-', label='omega sdepy')\n",
    "plt.plot(T, V, c='b',linestyle='-', label='theta sdepy')\n",
    "print('sde', X)\n",
    "\n",
    "###\n",
    "def pend(y, t, b, c):\n",
    "    theta, omega = y\n",
    "    dydt = [omega, -b*omega - c*np.sin(theta)]\n",
    "    return dydt\n",
    "b = 0.25\n",
    "c = 5.0\n",
    "y0 = [np.pi - 0.1, 0.0]\n",
    "from scipy.integrate import odeint\n",
    "sol = odeint(pend, y0, T, args=(b, c))\n",
    "plt.plot(T[:-1], sol[1:, 0], 'g+', label='theta ode')\n",
    "plt.plot(T[:-1], sol[1:, 1], 'y+', label='omega ode')\n",
    "plt.xlabel('t')\n",
    "print('ode', sol[:,1])\n",
    "###\n",
    "\n",
    "plt.legend()"
   ]
  },
  {
   "cell_type": "markdown",
   "metadata": {},
   "source": [
    "# notes"
   ]
  },
  {
   "cell_type": "code",
   "execution_count": null,
   "metadata": {},
   "outputs": [],
   "source": [
    "# generowanie liczb losowych\n",
    "\n",
    "import numpy as np\n",
    "import pycuda.autoinit\n",
    "from pycuda.compiler import SourceModule\n",
    "from pycuda import gpuarray\n",
    "\n",
    "code = \"\"\"\n",
    "    #include <curand_kernel.h>\n",
    "\n",
    "    const int nstates = %(NGENERATORS)s;\n",
    "    __device__ curandState_t* states[nstates];\n",
    "\n",
    "    __global__ void initkernel(int seed)\n",
    "    {\n",
    "        int tidx = threadIdx.x + blockIdx.x * blockDim.x;\n",
    "\n",
    "        if (tidx < nstates) {\n",
    "            curandState_t* s = new curandState_t;\n",
    "            if (s != 0) {\n",
    "                curand_init(seed, tidx, 0, s);\n",
    "            }\n",
    "\n",
    "            states[tidx] = s;\n",
    "        }\n",
    "    }\n",
    "\n",
    "    __global__ void randfillkernel(float *values, int N)\n",
    "    {\n",
    "        int tidx = threadIdx.x + blockIdx.x * blockDim.x;\n",
    "\n",
    "        if (tidx < nstates) {\n",
    "            curandState_t s = *states[tidx];\n",
    "            for(int i=tidx; i < N; i += blockDim.x * gridDim.x) {\n",
    "                values[i] = curand_uniform(&s);\n",
    "            }\n",
    "            *states[tidx] = s;\n",
    "        }\n",
    "    }\n",
    "\"\"\"\n",
    "\n",
    "N = 1\n",
    "mod = SourceModule(code % { \"NGENERATORS\" : N }, no_extern_c=True)\n",
    "init_func = mod.get_function(\"_Z10initkerneli\")\n",
    "fill_func = mod.get_function(\"_Z14randfillkernelPfi\")\n",
    "\n",
    "seed = np.int32(123456789)\n",
    "nvalues = 10 * N\n",
    "init_func(seed, block=(N,1,1), grid=(1,1,1))\n",
    "gdata = gpuarray.zeros(nvalues, dtype=np.float32)\n",
    "print(gdata)\n",
    "fill_func(gdata, np.int32(nvalues), block=(N,1,1), grid=(1,1,1))\n",
    "print(gdata)"
   ]
  },
  {
   "cell_type": "code",
   "execution_count": null,
   "metadata": {},
   "outputs": [],
   "source": [
    "#plotly\n",
    "\n",
    "import numpy as np\n",
    "from plotly.offline import download_plotlyjs, init_notebook_mode, iplot\n",
    "import plotly.graph_objs as go\n",
    "\n",
    "init_notebook_mode(connected=True)\n",
    "\n",
    "m = 0.2\n",
    "g = 9.81\n",
    "steps = 100\n",
    "\n",
    "alpha = 89\n",
    "v_0 = 30\n",
    "f = np.array([0, -m*g]) # x, y\n",
    "pos = np.zeros((steps, 2))\n",
    "v = np.zeros((steps, 2))\n",
    "v[0, :] = v_0 * np.cos(np.radians(alpha)), v_0 * np.sin(np.radians(alpha))\n",
    "a = f/m\n",
    "t = 0\n",
    "dt = 0.1\n",
    "\n",
    "last_i = 0\n",
    "for i in range(steps-1):\n",
    "    last_i = i\n",
    "    v[i+1, :] = v[i, :] + a*dt\n",
    "    pos[i+1, :] = pos[i, :] + v[i]*dt\n",
    "    if pos[i+1, 1] < 0:\n",
    "        break\n",
    "\n",
    "poss = go.Scatter(\n",
    "    x=pos[:last_i,0],\n",
    "    y=pos[:last_i,1],\n",
    "    mode = 'markers'\n",
    ")\n",
    "\n",
    "vs = go.Scatter(\n",
    "    x=pos[:last_i,0],\n",
    "    y=np.abs(v[:last_i,1]),\n",
    "    mode = 'markers'\n",
    ")\n",
    "\n",
    "data = [poss, vs]\n",
    "\n",
    "fig = go.Figure(data=data)\n",
    "\n",
    "iplot(fig)"
   ]
  },
  {
   "cell_type": "code",
   "execution_count": null,
   "metadata": {},
   "outputs": [],
   "source": [
    "# runge-kutta 4th order\n",
    "\n",
    "# https://pl.wikipedia.org/wiki/Algorytm_Rungego-Kutty\n",
    "# https://www.geeksforgeeks.org/runge-kutta-4th-order-method-solve-differential-equation/\n",
    "\n",
    "# predictor-corrector\n",
    "\n",
    "# http://www.cmth.ph.ic.ac.uk/people/a.mackinnon/Lectures/compphys/node12.html\n",
    "idx//paths"
   ]
  },
  {
   "cell_type": "code",
   "execution_count": null,
   "metadata": {},
   "outputs": [],
   "source": [
    "import functools\n",
    "import operator\n",
    "def indices_1D_ND(index, arrs):\n",
    "    '''\n",
    "    :param arrs:  array of arrays containing variables/parameters values\n",
    "                  e.g.: [[0], [0,1,2,3,4,5,6], range(95,105), [2], [1], [0.1, 0.01, 0.001]]\n",
    "    :param index: if all possible values combinations were produced from respectible subarrays and then flattened into 1D\n",
    "                  this is gonna be an index of values set in such 1D array\n",
    "    :returns:     array of indices for accessing desired values in arrs (indices in the same order as arrs)\n",
    "    :raises ValueError: if index out of range\n",
    "    '''\n",
    "    indices_reversed = []\n",
    "    lens = [len(x) for x in arrs]\n",
    "    max_index = functools.reduce(operator.mul, lens, 1)\n",
    "    if index < 0 or index >= max_index:\n",
    "        raise ValueError('index >= {}'.format(max_index))\n",
    "    for l in lens:\n",
    "        indices_reversed.append(index%l)\n",
    "        index = index // l\n",
    "    return(indices_reversed)\n",
    "\n",
    "aaa = [[0], [0,1,2,3,4,5,6], range(95,98), [2], [1], [0.1, 0.01, 0.001]]\n",
    "x = 0\n",
    "while(True):\n",
    "    try:\n",
    "        print(indices_1D_ND(x, aaa))\n",
    "        x += 1\n",
    "    except Exception:\n",
    "        break"
   ]
  },
  {
   "cell_type": "code",
   "execution_count": null,
   "metadata": {},
   "outputs": [],
   "source": [
    "import math\n",
    "class Welford(object):\n",
    "    \"\"\" Implements Welford's algorithm for computing a running mean\n",
    "    and standard deviation as described at: \n",
    "        http://www.johndcook.com/standard_deviation.html\n",
    "    can take single values or iterables\n",
    "    Properties:\n",
    "        mean    - returns the mean\n",
    "        std     - returns the std\n",
    "        meanfull- returns the mean and std of the mean\n",
    "    Usage:\n",
    "        >>> foo = Welford()\n",
    "        >>> foo(range(100))\n",
    "        >>> foo\n",
    "        <Welford: 49.5 +- 29.0114919759>\n",
    "        >>> foo([1]*1000)\n",
    "        >>> foo\n",
    "        <Welford: 5.40909090909 +- 16.4437417146>\n",
    "        >>> foo.mean\n",
    "        5.409090909090906\n",
    "        >>> foo.std\n",
    "        16.44374171455467\n",
    "        >>> foo.meanfull\n",
    "        (5.409090909090906, 0.4957974674244838)\n",
    "    \"\"\"\n",
    "\n",
    "    def __init__(self,lst=None):\n",
    "        self.k = 0\n",
    "        self.M = 0\n",
    "        self.S = 0\n",
    "        self.__call__(lst)\n",
    "    \n",
    "    def update(self,x):\n",
    "        if x is None:\n",
    "            return\n",
    "        self.k += 1\n",
    "        newM = self.M + (x - self.M)*1./self.k\n",
    "        newS = self.S + (x - self.M)*(x - newM)\n",
    "        self.M, self.S = newM, newS\n",
    "\n",
    "    def consume(self,lst):\n",
    "#         lst = iter(lst)\n",
    "        for x in lst:\n",
    "            self.update(x)\n",
    "    \n",
    "    def __call__(self,x):\n",
    "        if hasattr(x,\"__iter__\"):\n",
    "            self.consume(x)\n",
    "        else:\n",
    "            self.update(x)\n",
    "            \n",
    "    @property\n",
    "    def mean(self):\n",
    "        return self.M\n",
    "    @property\n",
    "    def meanfull(self):\n",
    "        return self.mean, self.std/math.sqrt(self.k)\n",
    "    @property\n",
    "    def std(self):\n",
    "        if self.k==1:\n",
    "            return 0\n",
    "        return math.sqrt(self.S/(self.k-1))\n",
    "    def __repr__(self):\n",
    "        return \"<Welford: {} +- {}>\".format(self.mean, self.std)\n",
    "    \n",
    "import numpy as np\n",
    "def aaa(x):\n",
    "    for x in range(x):\n",
    "        yield x*1000\n",
    "#     yield -x*10000\n",
    "lst = list(aaa(10000))\n",
    "print(lst[-10:])\n",
    "print(np.mean(lst))\n",
    "print(np.std(lst))\n",
    "Welford(lst)"
   ]
  }
 ],
 "metadata": {
  "kernelspec": {
   "display_name": "Python 3",
   "language": "python",
   "name": "python3"
  },
  "language_info": {
   "codemirror_mode": {
    "name": "ipython",
    "version": 3
   },
   "file_extension": ".py",
   "mimetype": "text/x-python",
   "name": "python",
   "nbconvert_exporter": "python",
   "pygments_lexer": "ipython3",
   "version": "3.6.7"
  }
 },
 "nbformat": 4,
 "nbformat_minor": 2
}
